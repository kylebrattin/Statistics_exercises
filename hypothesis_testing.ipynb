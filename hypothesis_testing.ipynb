{
 "cells": [
  {
   "cell_type": "code",
   "execution_count": 35,
   "id": "7b736e0c-9a61-4ce2-bb2f-0e231263e093",
   "metadata": {
    "tags": []
   },
   "outputs": [],
   "source": [
    "import pandas as pd\n",
    "import numpy as np\n",
    "import env\n",
    "from sqlalchemy import text, create_engine\n",
    "from scipy import stats\n",
    "import seaborn as sns\n"
   ]
  },
  {
   "cell_type": "markdown",
   "id": "5948e0ac-cf5c-4208-a27d-a1ed7525a192",
   "metadata": {},
   "source": [
    "# Comparison of Groups Exercises\n",
    "\n",
    "\n",
    "For each of the following questions, formulate a null and alternative hypothesis (be as specific as you can be), then give an example of what a true positive, true negative, type I and type II errors would look like. Note that some of the questions are intentionally phrased in a vague way. It is your job to reword these as more precise questions that could be tested.\n",
    "\n",
    "- Has the network latency gone up since we switched internet service providers?\n",
    "- Is the website redesign any good?\n",
    "- Is our television ad driving more sales?\n",
    "\n"
   ]
  },
  {
   "cell_type": "markdown",
   "id": "8f9126f3-9472-4455-89a9-d27e74c24331",
   "metadata": {},
   "source": [
    "# 1. Use the following contingency table to help answer the question of whether using a macbook and being a codeup student are independent of each other.\n",
    "\n",
    "|                       | Codeup Student | Not Codeup Student |\n",
    "|-----------------------|----------------|--------------------|\n",
    "| Uses a Macbook        | 49             | 20                 |\n",
    "| Doesn't Use a Macbook | 1              | 30                 |"
   ]
  },
  {
   "cell_type": "markdown",
   "id": "e697c85b-152c-4c2a-ad5f-74c337b8380d",
   "metadata": {},
   "source": [
    "a. Form hypotheses\n",
    "\n",
    "$H_o$: There is no association between being a Codeup studnet and using a Macbook.\n",
    "\n",
    "$H_a$: There is an association between being a Codeup studnet and using a Macbook."
   ]
  },
  {
   "cell_type": "code",
   "execution_count": 36,
   "id": "c5c413c2-b9ec-4e73-8da7-d5d2ec842805",
   "metadata": {
    "tags": []
   },
   "outputs": [],
   "source": [
    "null = \"There is no association between being a Codeup studnet and using a Macbook.\""
   ]
  },
  {
   "cell_type": "code",
   "execution_count": 37,
   "id": "23771f1b-275c-44c7-a903-f311b7700724",
   "metadata": {
    "tags": []
   },
   "outputs": [],
   "source": [
    "#State my alpha\n",
    "alpha = 0.05"
   ]
  },
  {
   "cell_type": "code",
   "execution_count": 38,
   "id": "45296d59-778e-44e2-88c7-c793a4669b97",
   "metadata": {
    "tags": []
   },
   "outputs": [
    {
     "data": {
      "text/plain": [
       "[[49, 20], [1, 30]]"
      ]
     },
     "execution_count": 38,
     "metadata": {},
     "output_type": "execute_result"
    }
   ],
   "source": [
    "# Make contigency tables\n",
    "observed = [[49, 20], [1,30]]\n",
    "observed"
   ]
  },
  {
   "cell_type": "code",
   "execution_count": 39,
   "id": "1db97cf6-14fd-49b1-aaa7-b6836a4ef6ff",
   "metadata": {
    "tags": []
   },
   "outputs": [
    {
     "data": {
      "text/html": [
       "<div>\n",
       "<style scoped>\n",
       "    .dataframe tbody tr th:only-of-type {\n",
       "        vertical-align: middle;\n",
       "    }\n",
       "\n",
       "    .dataframe tbody tr th {\n",
       "        vertical-align: top;\n",
       "    }\n",
       "\n",
       "    .dataframe thead th {\n",
       "        text-align: right;\n",
       "    }\n",
       "</style>\n",
       "<table border=\"1\" class=\"dataframe\">\n",
       "  <thead>\n",
       "    <tr style=\"text-align: right;\">\n",
       "      <th></th>\n",
       "      <th>codeup_student</th>\n",
       "      <th>not_codeup</th>\n",
       "    </tr>\n",
       "  </thead>\n",
       "  <tbody>\n",
       "    <tr>\n",
       "      <th>macbook</th>\n",
       "      <td>49</td>\n",
       "      <td>20</td>\n",
       "    </tr>\n",
       "    <tr>\n",
       "      <th>no_macbook</th>\n",
       "      <td>1</td>\n",
       "      <td>30</td>\n",
       "    </tr>\n",
       "  </tbody>\n",
       "</table>\n",
       "</div>"
      ],
      "text/plain": [
       "            codeup_student  not_codeup\n",
       "macbook                 49          20\n",
       "no_macbook               1          30"
      ]
     },
     "execution_count": 39,
     "metadata": {},
     "output_type": "execute_result"
    }
   ],
   "source": [
    "observed = pd.DataFrame(observed, columns=['codeup_student', 'not_codeup'], index=['macbook', 'no_macbook'])\n",
    "observed"
   ]
  },
  {
   "cell_type": "markdown",
   "id": "88295fe8-04cb-4228-b2ec-f65d24fc3d20",
   "metadata": {},
   "source": [
    "##  c. Perform a $chi^2$ test of independence:\n",
    "### Calculate chi2 and p-value"
   ]
  },
  {
   "cell_type": "code",
   "execution_count": 40,
   "id": "e67a25b4-0c47-47f3-acc1-007840d51788",
   "metadata": {
    "tags": []
   },
   "outputs": [],
   "source": [
    "chi2, p, degf, expected = stats.chi2_contingency(observed)"
   ]
  },
  {
   "cell_type": "code",
   "execution_count": 41,
   "id": "fcb14515-766b-438f-9815-60a130fbc20a",
   "metadata": {
    "tags": []
   },
   "outputs": [
    {
     "name": "stdout",
     "output_type": "stream",
     "text": [
      "Observed:\n",
      "[[49 20]\n",
      " [ 1 30]]\n",
      "\n",
      "Expected:\n",
      "[[34 34]\n",
      " [15 15]]\n",
      "________________\n",
      "\n",
      "ꭓ² = 36.6526\n",
      "p  = 1.4116760526193828e-09\n"
     ]
    }
   ],
   "source": [
    "print(f'''Observed:\n",
    "{observed.values}\n",
    "\n",
    "Expected:\n",
    "{expected.astype(int)}\n",
    "________________\n",
    "\n",
    "ꭓ² = {chi2:.4f}\n",
    "p  = {p}''')"
   ]
  },
  {
   "cell_type": "code",
   "execution_count": 42,
   "id": "4d2cadf4-0d54-427c-951b-e3ec33897230",
   "metadata": {
    "tags": []
   },
   "outputs": [
    {
     "name": "stdout",
     "output_type": "stream",
     "text": [
      "We reject H₀:There is no association between being a Codeup studnet and using a Macbook.\n"
     ]
    }
   ],
   "source": [
    "#D State your conclusion\n",
    "if p < alpha:\n",
    "    print(f'We reject H₀:{null}')\n",
    "else:\n",
    "    print(f'We fail to reject H₀:{null}')"
   ]
  },
  {
   "cell_type": "markdown",
   "id": "725b4a3f-a4ae-4bbd-a067-3fe8520971e2",
   "metadata": {},
   "source": [
    "Choose another 2 categorical variables from the mpg dataset.\n",
    "\n",
    "- State your null and alternative hypotheses.\n",
    "- State your alpha.\n",
    "- Perform a \n",
    "- chi^2 test of independence.\n",
    "- State your conclusion"
   ]
  },
  {
   "cell_type": "code",
   "execution_count": 43,
   "id": "126aa1c1-028e-4836-a096-ee7b2e2b1699",
   "metadata": {
    "tags": []
   },
   "outputs": [],
   "source": [
    "from pydataset import data"
   ]
  },
  {
   "cell_type": "code",
   "execution_count": 44,
   "id": "5f85e479-6bc8-4d27-acbb-3af217bb59da",
   "metadata": {
    "tags": []
   },
   "outputs": [
    {
     "data": {
      "text/html": [
       "<div>\n",
       "<style scoped>\n",
       "    .dataframe tbody tr th:only-of-type {\n",
       "        vertical-align: middle;\n",
       "    }\n",
       "\n",
       "    .dataframe tbody tr th {\n",
       "        vertical-align: top;\n",
       "    }\n",
       "\n",
       "    .dataframe thead th {\n",
       "        text-align: right;\n",
       "    }\n",
       "</style>\n",
       "<table border=\"1\" class=\"dataframe\">\n",
       "  <thead>\n",
       "    <tr style=\"text-align: right;\">\n",
       "      <th></th>\n",
       "      <th>manufacturer</th>\n",
       "      <th>model</th>\n",
       "      <th>displ</th>\n",
       "      <th>year</th>\n",
       "      <th>cyl</th>\n",
       "      <th>trans</th>\n",
       "      <th>drv</th>\n",
       "      <th>cty</th>\n",
       "      <th>hwy</th>\n",
       "      <th>fl</th>\n",
       "      <th>class</th>\n",
       "    </tr>\n",
       "  </thead>\n",
       "  <tbody>\n",
       "    <tr>\n",
       "      <th>1</th>\n",
       "      <td>audi</td>\n",
       "      <td>a4</td>\n",
       "      <td>1.8</td>\n",
       "      <td>1999</td>\n",
       "      <td>4</td>\n",
       "      <td>auto(l5)</td>\n",
       "      <td>f</td>\n",
       "      <td>18</td>\n",
       "      <td>29</td>\n",
       "      <td>p</td>\n",
       "      <td>compact</td>\n",
       "    </tr>\n",
       "    <tr>\n",
       "      <th>2</th>\n",
       "      <td>audi</td>\n",
       "      <td>a4</td>\n",
       "      <td>1.8</td>\n",
       "      <td>1999</td>\n",
       "      <td>4</td>\n",
       "      <td>manual(m5)</td>\n",
       "      <td>f</td>\n",
       "      <td>21</td>\n",
       "      <td>29</td>\n",
       "      <td>p</td>\n",
       "      <td>compact</td>\n",
       "    </tr>\n",
       "    <tr>\n",
       "      <th>3</th>\n",
       "      <td>audi</td>\n",
       "      <td>a4</td>\n",
       "      <td>2.0</td>\n",
       "      <td>2008</td>\n",
       "      <td>4</td>\n",
       "      <td>manual(m6)</td>\n",
       "      <td>f</td>\n",
       "      <td>20</td>\n",
       "      <td>31</td>\n",
       "      <td>p</td>\n",
       "      <td>compact</td>\n",
       "    </tr>\n",
       "    <tr>\n",
       "      <th>4</th>\n",
       "      <td>audi</td>\n",
       "      <td>a4</td>\n",
       "      <td>2.0</td>\n",
       "      <td>2008</td>\n",
       "      <td>4</td>\n",
       "      <td>auto(av)</td>\n",
       "      <td>f</td>\n",
       "      <td>21</td>\n",
       "      <td>30</td>\n",
       "      <td>p</td>\n",
       "      <td>compact</td>\n",
       "    </tr>\n",
       "    <tr>\n",
       "      <th>5</th>\n",
       "      <td>audi</td>\n",
       "      <td>a4</td>\n",
       "      <td>2.8</td>\n",
       "      <td>1999</td>\n",
       "      <td>6</td>\n",
       "      <td>auto(l5)</td>\n",
       "      <td>f</td>\n",
       "      <td>16</td>\n",
       "      <td>26</td>\n",
       "      <td>p</td>\n",
       "      <td>compact</td>\n",
       "    </tr>\n",
       "  </tbody>\n",
       "</table>\n",
       "</div>"
      ],
      "text/plain": [
       "  manufacturer model  displ  year  cyl       trans drv  cty  hwy fl    class\n",
       "1         audi    a4    1.8  1999    4    auto(l5)   f   18   29  p  compact\n",
       "2         audi    a4    1.8  1999    4  manual(m5)   f   21   29  p  compact\n",
       "3         audi    a4    2.0  2008    4  manual(m6)   f   20   31  p  compact\n",
       "4         audi    a4    2.0  2008    4    auto(av)   f   21   30  p  compact\n",
       "5         audi    a4    2.8  1999    6    auto(l5)   f   16   26  p  compact"
      ]
     },
     "execution_count": 44,
     "metadata": {},
     "output_type": "execute_result"
    }
   ],
   "source": [
    "#import data from pydataset\n",
    "df = data('mpg')\n",
    "df.head()"
   ]
  },
  {
   "cell_type": "code",
   "execution_count": 45,
   "id": "7ab0e3bf-fe48-4f1f-832e-1bfd9494fa6a",
   "metadata": {
    "tags": []
   },
   "outputs": [
    {
     "name": "stdout",
     "output_type": "stream",
     "text": [
      "<class 'pandas.core.frame.DataFrame'>\n",
      "Int64Index: 234 entries, 1 to 234\n",
      "Data columns (total 11 columns):\n",
      " #   Column        Non-Null Count  Dtype  \n",
      "---  ------        --------------  -----  \n",
      " 0   manufacturer  234 non-null    object \n",
      " 1   model         234 non-null    object \n",
      " 2   displ         234 non-null    float64\n",
      " 3   year          234 non-null    int64  \n",
      " 4   cyl           234 non-null    int64  \n",
      " 5   trans         234 non-null    object \n",
      " 6   drv           234 non-null    object \n",
      " 7   cty           234 non-null    int64  \n",
      " 8   hwy           234 non-null    int64  \n",
      " 9   fl            234 non-null    object \n",
      " 10  class         234 non-null    object \n",
      "dtypes: float64(1), int64(4), object(6)\n",
      "memory usage: 21.9+ KB\n"
     ]
    }
   ],
   "source": [
    "#look at info\n",
    "df.info()"
   ]
  },
  {
   "cell_type": "code",
   "execution_count": 46,
   "id": "dd6504c3-9e14-4580-a600-5179383275d8",
   "metadata": {
    "tags": []
   },
   "outputs": [
    {
     "data": {
      "text/plain": [
       "manufacturer    15\n",
       "model           38\n",
       "displ           35\n",
       "year             2\n",
       "cyl              4\n",
       "trans           10\n",
       "drv              3\n",
       "cty             21\n",
       "hwy             27\n",
       "fl               5\n",
       "class            7\n",
       "dtype: int64"
      ]
     },
     "execution_count": 46,
     "metadata": {},
     "output_type": "execute_result"
    }
   ],
   "source": [
    "#use .nunique to see which columns have categorical variables\n",
    "df.nunique()"
   ]
  },
  {
   "cell_type": "code",
   "execution_count": 47,
   "id": "c59b8404-a0e6-4ccc-a593-003dcc955020",
   "metadata": {
    "tags": []
   },
   "outputs": [
    {
     "data": {
      "text/plain": [
       "1999    117\n",
       "2008    117\n",
       "Name: year, dtype: int64"
      ]
     },
     "execution_count": 47,
     "metadata": {},
     "output_type": "execute_result"
    }
   ],
   "source": [
    "#look at year data\n",
    "df.year.value_counts()"
   ]
  },
  {
   "cell_type": "code",
   "execution_count": 48,
   "id": "d9ac7f8c-2ebd-4d9d-83db-2a0f5911433c",
   "metadata": {
    "tags": []
   },
   "outputs": [
    {
     "data": {
      "text/plain": [
       "4    81\n",
       "6    79\n",
       "8    70\n",
       "5     4\n",
       "Name: cyl, dtype: int64"
      ]
     },
     "execution_count": 48,
     "metadata": {},
     "output_type": "execute_result"
    }
   ],
   "source": [
    "#look at cyl data\n",
    "df.cyl.value_counts()"
   ]
  },
  {
   "cell_type": "markdown",
   "id": "c6897cc4-8be3-4fcb-8f4a-028320488c46",
   "metadata": {
    "tags": []
   },
   "source": [
    "## 2a. Form hypotheses\n",
    "\n",
    "$H_o$: There is no association between model year and cylinder.\n",
    "\n",
    "$H_a$: There is an association between model year and cylinder."
   ]
  },
  {
   "cell_type": "code",
   "execution_count": 49,
   "id": "3dde5896-a87d-4ede-a582-c06acf05642d",
   "metadata": {
    "tags": []
   },
   "outputs": [],
   "source": [
    "null = \"There is no association between model year and cylinder.\""
   ]
  },
  {
   "cell_type": "code",
   "execution_count": 50,
   "id": "7bba438c-0fdf-440f-8e38-a26c9e2a7a36",
   "metadata": {
    "tags": []
   },
   "outputs": [
    {
     "data": {
      "text/html": [
       "<div>\n",
       "<style scoped>\n",
       "    .dataframe tbody tr th:only-of-type {\n",
       "        vertical-align: middle;\n",
       "    }\n",
       "\n",
       "    .dataframe tbody tr th {\n",
       "        vertical-align: top;\n",
       "    }\n",
       "\n",
       "    .dataframe thead th {\n",
       "        text-align: right;\n",
       "    }\n",
       "</style>\n",
       "<table border=\"1\" class=\"dataframe\">\n",
       "  <thead>\n",
       "    <tr style=\"text-align: right;\">\n",
       "      <th>cyl</th>\n",
       "      <th>4</th>\n",
       "      <th>5</th>\n",
       "      <th>6</th>\n",
       "      <th>8</th>\n",
       "    </tr>\n",
       "    <tr>\n",
       "      <th>year</th>\n",
       "      <th></th>\n",
       "      <th></th>\n",
       "      <th></th>\n",
       "      <th></th>\n",
       "    </tr>\n",
       "  </thead>\n",
       "  <tbody>\n",
       "    <tr>\n",
       "      <th>1999</th>\n",
       "      <td>45</td>\n",
       "      <td>0</td>\n",
       "      <td>45</td>\n",
       "      <td>27</td>\n",
       "    </tr>\n",
       "    <tr>\n",
       "      <th>2008</th>\n",
       "      <td>36</td>\n",
       "      <td>4</td>\n",
       "      <td>34</td>\n",
       "      <td>43</td>\n",
       "    </tr>\n",
       "  </tbody>\n",
       "</table>\n",
       "</div>"
      ],
      "text/plain": [
       "cyl    4  5   6   8\n",
       "year               \n",
       "1999  45  0  45  27\n",
       "2008  36  4  34  43"
      ]
     },
     "execution_count": 50,
     "metadata": {},
     "output_type": "execute_result"
    }
   ],
   "source": [
    "observedm = pd.crosstab(df.year, df.cyl)\n",
    "observedm"
   ]
  },
  {
   "cell_type": "markdown",
   "id": "c25a47fd-b04d-45ff-a5ad-b06652bf134e",
   "metadata": {},
   "source": [
    "2c. Perform a $chi^2$ test of independence:\n",
    " \n",
    "Calculate chi2 and p-value"
   ]
  },
  {
   "cell_type": "code",
   "execution_count": 51,
   "id": "557cfa08-ce5b-46f2-bd4f-9646c22d5430",
   "metadata": {
    "tags": []
   },
   "outputs": [],
   "source": [
    "chi2, p, degf, expected = stats.chi2_contingency(observedm)"
   ]
  },
  {
   "cell_type": "code",
   "execution_count": 52,
   "id": "0b8fa801-5e83-416a-84b0-bc2f7771664b",
   "metadata": {
    "tags": []
   },
   "outputs": [
    {
     "name": "stdout",
     "output_type": "stream",
     "text": [
      "Observed:\n",
      "[[45  0 45 27]\n",
      " [36  4 34 43]]\n",
      "\n",
      "Expected:\n",
      "[[40  2 39 35]\n",
      " [40  2 39 35]]\n",
      "________________\n",
      "\n",
      "ꭓ² = 10.1888\n",
      "p  = 0.01702768537665195\n"
     ]
    }
   ],
   "source": [
    "print(f'''Observed:\n",
    "{observedm.values}\n",
    "\n",
    "Expected:\n",
    "{expected.astype(int)}\n",
    "________________\n",
    "\n",
    "ꭓ² = {chi2:.4f}\n",
    "p  = {p}''')"
   ]
  },
  {
   "cell_type": "code",
   "execution_count": 53,
   "id": "6bf1622e-d9ee-4b7b-99c7-20abf45b9406",
   "metadata": {
    "tags": []
   },
   "outputs": [
    {
     "name": "stdout",
     "output_type": "stream",
     "text": [
      "We reject H₀:There is no association between model year and cylinder.\n"
     ]
    }
   ],
   "source": [
    "#2.D\n",
    "if p < alpha:\n",
    "    print(f'We reject H₀:{null}')\n",
    "else:\n",
    "    print(f'We fail to reject H₀:{null}')"
   ]
  },
  {
   "cell_type": "markdown",
   "id": "3d88517b-860b-41cc-86ea-326726d19943",
   "metadata": {},
   "source": [
    "# 3. Use the data from the employees database to answer these questions:"
   ]
  },
  {
   "cell_type": "markdown",
   "id": "59b6531a-fdb5-4f0f-8375-32947b3d2060",
   "metadata": {},
   "source": [
    "## 3a. Is an employee's gender independent of whether an employee works in sales or marketing? (only look at current employees)"
   ]
  },
  {
   "cell_type": "markdown",
   "id": "e2906e83-19ea-46d6-92ed-e4820b607b28",
   "metadata": {},
   "source": [
    "$H_o$: There is no association between employee gender and working in sales/marketing.\n",
    "\n",
    "$H_a$: There is an association between employee gender and working in sales/marketing."
   ]
  },
  {
   "cell_type": "code",
   "execution_count": 54,
   "id": "4d68b095-6515-409f-ab40-727bb2ef2d8f",
   "metadata": {
    "tags": []
   },
   "outputs": [],
   "source": [
    "null = \"There is no association between employee gender and working in sales/marketing.\""
   ]
  },
  {
   "cell_type": "code",
   "execution_count": 55,
   "id": "65f2147b-f2ae-449c-b821-6e49825d64d9",
   "metadata": {
    "tags": []
   },
   "outputs": [],
   "source": [
    "#set sql query\n",
    "query = \"\"\"\n",
    "SELECT emp_no, gender, dept_name\n",
    "FROM employees\n",
    "    INNER JOIN dept_emp \n",
    "        using(emp_no)\n",
    "    INNER JOIN departments\n",
    "        using(dept_no)\n",
    "WHERE to_date = '9999-01-01'\n",
    "    and dept_name in ('Marketing', 'Sales')\n",
    "\"\"\""
   ]
  },
  {
   "cell_type": "code",
   "execution_count": 56,
   "id": "0a3ab38d-0ddd-4eaa-bd2d-e537a762df75",
   "metadata": {
    "tags": []
   },
   "outputs": [
    {
     "data": {
      "text/html": [
       "<div>\n",
       "<style scoped>\n",
       "    .dataframe tbody tr th:only-of-type {\n",
       "        vertical-align: middle;\n",
       "    }\n",
       "\n",
       "    .dataframe tbody tr th {\n",
       "        vertical-align: top;\n",
       "    }\n",
       "\n",
       "    .dataframe thead th {\n",
       "        text-align: right;\n",
       "    }\n",
       "</style>\n",
       "<table border=\"1\" class=\"dataframe\">\n",
       "  <thead>\n",
       "    <tr style=\"text-align: right;\">\n",
       "      <th></th>\n",
       "      <th>emp_no</th>\n",
       "      <th>gender</th>\n",
       "      <th>dept_name</th>\n",
       "    </tr>\n",
       "  </thead>\n",
       "  <tbody>\n",
       "    <tr>\n",
       "      <th>0</th>\n",
       "      <td>10017</td>\n",
       "      <td>F</td>\n",
       "      <td>Marketing</td>\n",
       "    </tr>\n",
       "    <tr>\n",
       "      <th>1</th>\n",
       "      <td>10058</td>\n",
       "      <td>M</td>\n",
       "      <td>Marketing</td>\n",
       "    </tr>\n",
       "    <tr>\n",
       "      <th>2</th>\n",
       "      <td>10140</td>\n",
       "      <td>F</td>\n",
       "      <td>Marketing</td>\n",
       "    </tr>\n",
       "    <tr>\n",
       "      <th>3</th>\n",
       "      <td>10228</td>\n",
       "      <td>F</td>\n",
       "      <td>Marketing</td>\n",
       "    </tr>\n",
       "    <tr>\n",
       "      <th>4</th>\n",
       "      <td>10239</td>\n",
       "      <td>F</td>\n",
       "      <td>Marketing</td>\n",
       "    </tr>\n",
       "  </tbody>\n",
       "</table>\n",
       "</div>"
      ],
      "text/plain": [
       "   emp_no gender  dept_name\n",
       "0   10017      F  Marketing\n",
       "1   10058      M  Marketing\n",
       "2   10140      F  Marketing\n",
       "3   10228      F  Marketing\n",
       "4   10239      F  Marketing"
      ]
     },
     "execution_count": 56,
     "metadata": {},
     "output_type": "execute_result"
    }
   ],
   "source": [
    "#read in sql data\n",
    "some_db = 'employees'\n",
    "engine = create_engine(env.get_db_url(some_db))\n",
    "df = pd.read_sql(query, engine.connect())\n",
    "df.head()\n"
   ]
  },
  {
   "cell_type": "code",
   "execution_count": 57,
   "id": "21831be0-c534-42b2-94a0-89d48798fe98",
   "metadata": {
    "tags": []
   },
   "outputs": [
    {
     "name": "stdout",
     "output_type": "stream",
     "text": [
      "<class 'pandas.core.frame.DataFrame'>\n",
      "RangeIndex: 52543 entries, 0 to 52542\n",
      "Data columns (total 3 columns):\n",
      " #   Column     Non-Null Count  Dtype \n",
      "---  ------     --------------  ----- \n",
      " 0   emp_no     52543 non-null  int64 \n",
      " 1   gender     52543 non-null  object\n",
      " 2   dept_name  52543 non-null  object\n",
      "dtypes: int64(1), object(2)\n",
      "memory usage: 1.2+ MB\n"
     ]
    }
   ],
   "source": [
    "#look at data\n",
    "df.info()"
   ]
  },
  {
   "cell_type": "code",
   "execution_count": 58,
   "id": "1b6fa70e-d2b3-4ad3-bb87-53377d629aa5",
   "metadata": {
    "tags": []
   },
   "outputs": [
    {
     "data": {
      "text/plain": [
       "M    0.602935\n",
       "F    0.397065\n",
       "Name: gender, dtype: float64"
      ]
     },
     "execution_count": 58,
     "metadata": {},
     "output_type": "execute_result"
    }
   ],
   "source": [
    "#view gender data\n",
    "df.gender.value_counts(normalize=True)"
   ]
  },
  {
   "cell_type": "code",
   "execution_count": 59,
   "id": "baaa2066-6fad-4114-a1db-0dfaa0546f07",
   "metadata": {
    "tags": []
   },
   "outputs": [
    {
     "data": {
      "text/plain": [
       "Sales        37701\n",
       "Marketing    14842\n",
       "Name: dept_name, dtype: int64"
      ]
     },
     "execution_count": 59,
     "metadata": {},
     "output_type": "execute_result"
    }
   ],
   "source": [
    "#view dept_name data\n",
    "df.dept_name.value_counts()"
   ]
  },
  {
   "cell_type": "code",
   "execution_count": 60,
   "id": "abfcd26f-6886-454d-a6c7-d2837737dad3",
   "metadata": {
    "tags": []
   },
   "outputs": [
    {
     "data": {
      "text/html": [
       "<div>\n",
       "<style scoped>\n",
       "    .dataframe tbody tr th:only-of-type {\n",
       "        vertical-align: middle;\n",
       "    }\n",
       "\n",
       "    .dataframe tbody tr th {\n",
       "        vertical-align: top;\n",
       "    }\n",
       "\n",
       "    .dataframe thead th {\n",
       "        text-align: right;\n",
       "    }\n",
       "</style>\n",
       "<table border=\"1\" class=\"dataframe\">\n",
       "  <thead>\n",
       "    <tr style=\"text-align: right;\">\n",
       "      <th>dept_name</th>\n",
       "      <th>Marketing</th>\n",
       "      <th>Sales</th>\n",
       "    </tr>\n",
       "    <tr>\n",
       "      <th>gender</th>\n",
       "      <th></th>\n",
       "      <th></th>\n",
       "    </tr>\n",
       "  </thead>\n",
       "  <tbody>\n",
       "    <tr>\n",
       "      <th>F</th>\n",
       "      <td>5864</td>\n",
       "      <td>14999</td>\n",
       "    </tr>\n",
       "    <tr>\n",
       "      <th>M</th>\n",
       "      <td>8978</td>\n",
       "      <td>22702</td>\n",
       "    </tr>\n",
       "  </tbody>\n",
       "</table>\n",
       "</div>"
      ],
      "text/plain": [
       "dept_name  Marketing  Sales\n",
       "gender                     \n",
       "F               5864  14999\n",
       "M               8978  22702"
      ]
     },
     "execution_count": 60,
     "metadata": {},
     "output_type": "execute_result"
    }
   ],
   "source": [
    "#create contigency table\n",
    "observed = pd.crosstab(df.gender, df.dept_name)\n",
    "observed"
   ]
  },
  {
   "cell_type": "code",
   "execution_count": 61,
   "id": "31ff6e8c-41c5-4be7-bc0c-0f1dced944eb",
   "metadata": {
    "tags": []
   },
   "outputs": [
    {
     "data": {
      "text/html": [
       "<div>\n",
       "<style scoped>\n",
       "    .dataframe tbody tr th:only-of-type {\n",
       "        vertical-align: middle;\n",
       "    }\n",
       "\n",
       "    .dataframe tbody tr th {\n",
       "        vertical-align: top;\n",
       "    }\n",
       "\n",
       "    .dataframe thead th {\n",
       "        text-align: right;\n",
       "    }\n",
       "</style>\n",
       "<table border=\"1\" class=\"dataframe\">\n",
       "  <thead>\n",
       "    <tr style=\"text-align: right;\">\n",
       "      <th>dept_name</th>\n",
       "      <th>Marketing</th>\n",
       "      <th>Sales</th>\n",
       "    </tr>\n",
       "    <tr>\n",
       "      <th>gender</th>\n",
       "      <th></th>\n",
       "      <th></th>\n",
       "    </tr>\n",
       "  </thead>\n",
       "  <tbody>\n",
       "    <tr>\n",
       "      <th>F</th>\n",
       "      <td>0.111604</td>\n",
       "      <td>0.285461</td>\n",
       "    </tr>\n",
       "    <tr>\n",
       "      <th>M</th>\n",
       "      <td>0.170870</td>\n",
       "      <td>0.432065</td>\n",
       "    </tr>\n",
       "  </tbody>\n",
       "</table>\n",
       "</div>"
      ],
      "text/plain": [
       "dept_name  Marketing     Sales\n",
       "gender                        \n",
       "F           0.111604  0.285461\n",
       "M           0.170870  0.432065"
      ]
     },
     "execution_count": 61,
     "metadata": {},
     "output_type": "execute_result"
    }
   ],
   "source": [
    "pd.crosstab(df.gender, df.dept_name, normalize=True)"
   ]
  },
  {
   "cell_type": "code",
   "execution_count": 62,
   "id": "eadc15e6-6d04-4fbb-949e-0964a4ac7d5e",
   "metadata": {
    "tags": []
   },
   "outputs": [],
   "source": [
    "#calculate chi2 and p-value\n",
    "chi2, p, degf, expected = stats.chi2_contingency(observed)"
   ]
  },
  {
   "cell_type": "code",
   "execution_count": 63,
   "id": "f19fc932-db76-43f4-b7f7-ea27c7f8ebc1",
   "metadata": {
    "tags": []
   },
   "outputs": [
    {
     "name": "stdout",
     "output_type": "stream",
     "text": [
      "Observed:\n",
      "[[45  0 45 27]\n",
      " [36  4 34 43]]\n",
      "\n",
      "Expected:\n",
      "[[ 5893 14969]\n",
      " [ 8948 22731]]\n",
      "________________\n",
      "\n",
      "ꭓ² = 0.3240\n",
      "p  = 0.5691938610810126\n"
     ]
    }
   ],
   "source": [
    "print(f'''Observed:\n",
    "{observedm.values}\n",
    "\n",
    "Expected:\n",
    "{expected.astype(int)}\n",
    "________________\n",
    "\n",
    "ꭓ² = {chi2:.4f}\n",
    "p  = {p}''')"
   ]
  },
  {
   "cell_type": "code",
   "execution_count": 64,
   "id": "0726a0a5-59b1-476c-bd32-94623d1fbf7c",
   "metadata": {
    "tags": []
   },
   "outputs": [
    {
     "name": "stdout",
     "output_type": "stream",
     "text": [
      "We fail to reject H₀:There is no association between employee gender and working in sales/marketing.\n"
     ]
    }
   ],
   "source": [
    "if p < alpha:\n",
    "    print(f'We reject H₀:{null}')\n",
    "else:\n",
    "    print(f'We fail to reject H₀:{null}')"
   ]
  },
  {
   "cell_type": "markdown",
   "id": "53281934-6656-4762-beab-c31c39728601",
   "metadata": {},
   "source": [
    "## 3b. Is an employee's gender independent of whether or not they are or have been a manager?\n",
    "\n",
    "$H_o$: There is no association between employee gender and being a manager.\n",
    "\n",
    "$H_a$: There is an association between employee gender and being a manager."
   ]
  },
  {
   "cell_type": "code",
   "execution_count": 65,
   "id": "e37d4f3e-c964-410d-bc38-b7e67fccb27d",
   "metadata": {
    "tags": []
   },
   "outputs": [],
   "source": [
    "null = \"There is no association between employee gender and being a manager.\""
   ]
  },
  {
   "cell_type": "code",
   "execution_count": 66,
   "id": "2f746ccc-47f3-4986-9303-30f40428ec48",
   "metadata": {
    "tags": []
   },
   "outputs": [],
   "source": [
    "#set sql query\n",
    "query = \"\"\"\n",
    "SELECT emp_no, gender, dept_no\n",
    "FROM employees\n",
    "    LEFT JOIN dept_manager\n",
    "        using(emp_no)\n",
    "\"\"\""
   ]
  },
  {
   "cell_type": "code",
   "execution_count": 67,
   "id": "1a0007a0-af97-465f-9e77-c0ba4522b41d",
   "metadata": {
    "tags": []
   },
   "outputs": [
    {
     "data": {
      "text/html": [
       "<div>\n",
       "<style scoped>\n",
       "    .dataframe tbody tr th:only-of-type {\n",
       "        vertical-align: middle;\n",
       "    }\n",
       "\n",
       "    .dataframe tbody tr th {\n",
       "        vertical-align: top;\n",
       "    }\n",
       "\n",
       "    .dataframe thead th {\n",
       "        text-align: right;\n",
       "    }\n",
       "</style>\n",
       "<table border=\"1\" class=\"dataframe\">\n",
       "  <thead>\n",
       "    <tr style=\"text-align: right;\">\n",
       "      <th></th>\n",
       "      <th>emp_no</th>\n",
       "      <th>gender</th>\n",
       "      <th>dept_no</th>\n",
       "    </tr>\n",
       "  </thead>\n",
       "  <tbody>\n",
       "    <tr>\n",
       "      <th>0</th>\n",
       "      <td>10001</td>\n",
       "      <td>M</td>\n",
       "      <td>None</td>\n",
       "    </tr>\n",
       "    <tr>\n",
       "      <th>1</th>\n",
       "      <td>10002</td>\n",
       "      <td>F</td>\n",
       "      <td>None</td>\n",
       "    </tr>\n",
       "    <tr>\n",
       "      <th>2</th>\n",
       "      <td>10003</td>\n",
       "      <td>M</td>\n",
       "      <td>None</td>\n",
       "    </tr>\n",
       "    <tr>\n",
       "      <th>3</th>\n",
       "      <td>10004</td>\n",
       "      <td>M</td>\n",
       "      <td>None</td>\n",
       "    </tr>\n",
       "    <tr>\n",
       "      <th>4</th>\n",
       "      <td>10005</td>\n",
       "      <td>M</td>\n",
       "      <td>None</td>\n",
       "    </tr>\n",
       "  </tbody>\n",
       "</table>\n",
       "</div>"
      ],
      "text/plain": [
       "   emp_no gender dept_no\n",
       "0   10001      M    None\n",
       "1   10002      F    None\n",
       "2   10003      M    None\n",
       "3   10004      M    None\n",
       "4   10005      M    None"
      ]
     },
     "execution_count": 67,
     "metadata": {},
     "output_type": "execute_result"
    }
   ],
   "source": [
    "#read in sql data\n",
    "some_db = 'employees'\n",
    "engine = create_engine(env.get_db_url(some_db))\n",
    "df = pd.read_sql(query, engine.connect())\n",
    "df.head()"
   ]
  },
  {
   "cell_type": "code",
   "execution_count": 68,
   "id": "247cd75a-035c-42f7-a4b9-07b0a9b406ef",
   "metadata": {
    "tags": []
   },
   "outputs": [
    {
     "name": "stdout",
     "output_type": "stream",
     "text": [
      "<class 'pandas.core.frame.DataFrame'>\n",
      "RangeIndex: 300024 entries, 0 to 300023\n",
      "Data columns (total 3 columns):\n",
      " #   Column   Non-Null Count   Dtype \n",
      "---  ------   --------------   ----- \n",
      " 0   emp_no   300024 non-null  int64 \n",
      " 1   gender   300024 non-null  object\n",
      " 2   dept_no  24 non-null      object\n",
      "dtypes: int64(1), object(2)\n",
      "memory usage: 6.9+ MB\n"
     ]
    }
   ],
   "source": [
    "#look at data\n",
    "df.info()"
   ]
  },
  {
   "cell_type": "code",
   "execution_count": 69,
   "id": "9ec2476d-7ea2-4cea-a7df-4eae2936513e",
   "metadata": {
    "tags": []
   },
   "outputs": [
    {
     "data": {
      "text/plain": [
       "None    300000\n",
       "d004         4\n",
       "d006         4\n",
       "d009         4\n",
       "d001         2\n",
       "d002         2\n",
       "d003         2\n",
       "d005         2\n",
       "d007         2\n",
       "d008         2\n",
       "Name: dept_no, dtype: int64"
      ]
     },
     "execution_count": 69,
     "metadata": {},
     "output_type": "execute_result"
    }
   ],
   "source": [
    "#look at dept_no data\n",
    "df.dept_no.value_counts(dropna=False)"
   ]
  },
  {
   "cell_type": "code",
   "execution_count": 70,
   "id": "17c3d621-1e17-49a8-9fd0-ba146ada5103",
   "metadata": {
    "tags": []
   },
   "outputs": [],
   "source": [
    "#fill in nulls\n",
    "df.dept_no = df.dept_no.fillna('not_mngr')"
   ]
  },
  {
   "cell_type": "code",
   "execution_count": 71,
   "id": "11184132-3c87-45a9-9741-70661f6efa46",
   "metadata": {
    "tags": []
   },
   "outputs": [
    {
     "data": {
      "text/plain": [
       "not_mngr    300000\n",
       "d004             4\n",
       "d006             4\n",
       "d009             4\n",
       "d001             2\n",
       "d002             2\n",
       "d003             2\n",
       "d005             2\n",
       "d007             2\n",
       "d008             2\n",
       "Name: dept_no, dtype: int64"
      ]
     },
     "execution_count": 71,
     "metadata": {},
     "output_type": "execute_result"
    }
   ],
   "source": [
    "df.dept_no.value_counts()"
   ]
  },
  {
   "cell_type": "code",
   "execution_count": 72,
   "id": "82af9ed3-ac50-4490-8863-86eea35686bc",
   "metadata": {
    "tags": []
   },
   "outputs": [],
   "source": [
    "#make new column using np.where\n",
    "# np.where( condtion, this happens when true, this happens when false)\n",
    "\n",
    "df.dept_no = np.where(df.dept_no != \"not_mngr\", \"manager\", \"not_manager\")"
   ]
  },
  {
   "cell_type": "code",
   "execution_count": 73,
   "id": "42d1e153-4147-415b-b115-6601e14eff79",
   "metadata": {
    "tags": []
   },
   "outputs": [
    {
     "data": {
      "text/plain": [
       "not_manager    300000\n",
       "manager            24\n",
       "Name: dept_no, dtype: int64"
      ]
     },
     "execution_count": 73,
     "metadata": {},
     "output_type": "execute_result"
    }
   ],
   "source": [
    "df.dept_no.value_counts()"
   ]
  },
  {
   "cell_type": "code",
   "execution_count": 74,
   "id": "69b9ca6a-bfdd-418d-b553-463a6214d0aa",
   "metadata": {
    "tags": []
   },
   "outputs": [
    {
     "data": {
      "text/html": [
       "<div>\n",
       "<style scoped>\n",
       "    .dataframe tbody tr th:only-of-type {\n",
       "        vertical-align: middle;\n",
       "    }\n",
       "\n",
       "    .dataframe tbody tr th {\n",
       "        vertical-align: top;\n",
       "    }\n",
       "\n",
       "    .dataframe thead th {\n",
       "        text-align: right;\n",
       "    }\n",
       "</style>\n",
       "<table border=\"1\" class=\"dataframe\">\n",
       "  <thead>\n",
       "    <tr style=\"text-align: right;\">\n",
       "      <th>dept_no</th>\n",
       "      <th>manager</th>\n",
       "      <th>not_manager</th>\n",
       "    </tr>\n",
       "    <tr>\n",
       "      <th>gender</th>\n",
       "      <th></th>\n",
       "      <th></th>\n",
       "    </tr>\n",
       "  </thead>\n",
       "  <tbody>\n",
       "    <tr>\n",
       "      <th>F</th>\n",
       "      <td>13</td>\n",
       "      <td>120038</td>\n",
       "    </tr>\n",
       "    <tr>\n",
       "      <th>M</th>\n",
       "      <td>11</td>\n",
       "      <td>179962</td>\n",
       "    </tr>\n",
       "  </tbody>\n",
       "</table>\n",
       "</div>"
      ],
      "text/plain": [
       "dept_no  manager  not_manager\n",
       "gender                       \n",
       "F             13       120038\n",
       "M             11       179962"
      ]
     },
     "execution_count": 74,
     "metadata": {},
     "output_type": "execute_result"
    }
   ],
   "source": [
    "#create contigency table\n",
    "observed = pd.crosstab(df.gender, df.dept_no)\n",
    "observed"
   ]
  },
  {
   "cell_type": "code",
   "execution_count": 75,
   "id": "6380fa5d-e74c-4b67-9ec8-a90a32d3d681",
   "metadata": {
    "tags": []
   },
   "outputs": [],
   "source": [
    "#calculate chi2 and p-value\n",
    "chi2, p, degf, expected = stats.chi2_contingency(observed)"
   ]
  },
  {
   "cell_type": "code",
   "execution_count": 76,
   "id": "4a4793da-1636-416c-814d-31fe489b1333",
   "metadata": {
    "tags": []
   },
   "outputs": [
    {
     "name": "stdout",
     "output_type": "stream",
     "text": [
      "Observed:\n",
      "[[45  0 45 27]\n",
      " [36  4 34 43]]\n",
      "\n",
      "Expected:\n",
      "[[     9 120041]\n",
      " [    14 179958]]\n",
      "________________\n",
      "\n",
      "ꭓ² = 1.4567\n",
      "p  = 0.22745818732810363\n"
     ]
    }
   ],
   "source": [
    "print(f'''Observed:\n",
    "{observedm.values}\n",
    "\n",
    "Expected:\n",
    "{expected.astype(int)}\n",
    "________________\n",
    "\n",
    "ꭓ² = {chi2:.4f}\n",
    "p  = {p}''')"
   ]
  },
  {
   "cell_type": "code",
   "execution_count": 77,
   "id": "4b93c681-7357-4599-81e2-15a4733dbf19",
   "metadata": {
    "tags": []
   },
   "outputs": [
    {
     "name": "stdout",
     "output_type": "stream",
     "text": [
      "We fail to reject H₀:There is no association between employee gender and being a manager.\n"
     ]
    }
   ],
   "source": [
    "if p < alpha:\n",
    "    print(f'We reject H₀:{null}')\n",
    "else:\n",
    "    print(f'We fail to reject H₀:{null}')"
   ]
  },
  {
   "cell_type": "markdown",
   "id": "6e15b94c-6ecf-45d8-bf5b-e6060bc2391d",
   "metadata": {},
   "source": [
    "# Helpful function"
   ]
  },
  {
   "cell_type": "code",
   "execution_count": 78,
   "id": "c68d6b42-5b73-4a91-9704-fc76c0ff7129",
   "metadata": {
    "tags": []
   },
   "outputs": [],
   "source": [
    "def chi2_test(table, variables=False):\n",
    "    \"\"\"\n",
    "    this function will tak in:\n",
    "    - a crosstab/contingency table\n",
    "    - boolean defaulted to False for output of variables.\n",
    "    Then print out the chi^2 conclusion of p vs. alpha \n",
    "\n",
    "    if boolean changed to True, will also return:\n",
    "    - chi2\n",
    "    - p\n",
    "    - degf\n",
    "    - expected \n",
    "    \"\"\"\n",
    "    chi2, p, degf, expected = stats.chi2_contingency(table)\n",
    "    print(f'''Observed:\n",
    "{observedm.values}\n",
    "\n",
    "Expected:\n",
    "{expected.astype(int)}\n",
    "________________\n",
    "\n",
    "ꭓ² = {chi2:.4f}\n",
    "p  = {p}''')\n",
    "    if variables:\n",
    "        return chi2, p, degf, expected\n",
    "    else:\n",
    "        return"
   ]
  },
  {
   "cell_type": "code",
   "execution_count": 79,
   "id": "039cf75c-fbdf-4420-ad4a-0ad2a87c4c03",
   "metadata": {
    "tags": []
   },
   "outputs": [
    {
     "name": "stdout",
     "output_type": "stream",
     "text": [
      "Observed:\n",
      "[[45  0 45 27]\n",
      " [36  4 34 43]]\n",
      "\n",
      "Expected:\n",
      "[[     9 120041]\n",
      " [    14 179958]]\n",
      "________________\n",
      "\n",
      "ꭓ² = 1.4567\n",
      "p  = 0.22745818732810363\n"
     ]
    }
   ],
   "source": [
    "chi2_test(observed)"
   ]
  },
  {
   "cell_type": "markdown",
   "id": "9a99d724-b4b3-4e7b-a932-4ed9b0ec8804",
   "metadata": {},
   "source": [
    "# Correlation Exercises\n",
    "\n",
    "1.) Answer with the type of stats test you would use (assume normal distribution):\n",
    "\n",
    "- Is there a relationship between the length of your arm and the length of your foot?\n",
    "- Does smoking affect when or not someone has lung cancer?\n",
    "- Is gender independent of a person’s blood type?\n",
    "- Does whether or not a person has a cat or dog affect whether they live in an apartment?\n",
    "- Does the length of time of the lecture correlate with a student's grade?"
   ]
  },
  {
   "cell_type": "code",
   "execution_count": 80,
   "id": "9759423c-0718-492b-89f8-1de22d8ecdca",
   "metadata": {},
   "outputs": [],
   "source": [
    "# use pearson's r"
   ]
  },
  {
   "cell_type": "code",
   "execution_count": 81,
   "id": "edb2a6b3-bb0c-4ba4-af2b-ec46fbd7b210",
   "metadata": {},
   "outputs": [],
   "source": [
    "# chi-squared"
   ]
  },
  {
   "cell_type": "code",
   "execution_count": 82,
   "id": "345e0a85-084e-4458-ad53-28d083e16af5",
   "metadata": {},
   "outputs": [],
   "source": [
    "# chi-squared"
   ]
  },
  {
   "cell_type": "code",
   "execution_count": 83,
   "id": "4f10897a-dc7a-4040-b27f-3748ee0e4c6c",
   "metadata": {},
   "outputs": [],
   "source": [
    "# chi-squared"
   ]
  },
  {
   "cell_type": "code",
   "execution_count": 84,
   "id": "fd10b6f1-cb8f-44dc-8cb0-bd6b885f29f5",
   "metadata": {},
   "outputs": [],
   "source": [
    "# use pearson's r"
   ]
  },
  {
   "cell_type": "code",
   "execution_count": 85,
   "id": "632eceb2-8679-4558-b66d-cf8bceba76d1",
   "metadata": {
    "tags": []
   },
   "outputs": [],
   "source": [
    "import env\n",
    "import pandas as pd\n",
    "import numpy as np\n",
    "from sqlalchemy import text, create_engine\n",
    "import scipy.stats as stats\n",
    "import matplotlib.pyplot as plt\n",
    "import seaborn as sns"
   ]
  },
  {
   "cell_type": "markdown",
   "id": "8dfafb7a-38ba-4129-b084-916a1b2eb3c5",
   "metadata": {},
   "source": [
    "2.) Use the telco_churn data.\n",
    "\n",
    "- Does tenure correlate with monthly charges?\n",
    "- Total charges?\n",
    "- What happens if you control for phone and internet service?"
   ]
  },
  {
   "cell_type": "code",
   "execution_count": 86,
   "id": "1995934a-f9c9-437d-b921-ebff025f4b74",
   "metadata": {
    "tags": []
   },
   "outputs": [
    {
     "data": {
      "text/html": [
       "<div>\n",
       "<style scoped>\n",
       "    .dataframe tbody tr th:only-of-type {\n",
       "        vertical-align: middle;\n",
       "    }\n",
       "\n",
       "    .dataframe tbody tr th {\n",
       "        vertical-align: top;\n",
       "    }\n",
       "\n",
       "    .dataframe thead th {\n",
       "        text-align: right;\n",
       "    }\n",
       "</style>\n",
       "<table border=\"1\" class=\"dataframe\">\n",
       "  <thead>\n",
       "    <tr style=\"text-align: right;\">\n",
       "      <th></th>\n",
       "      <th>customer_id</th>\n",
       "      <th>gender</th>\n",
       "      <th>senior_citizen</th>\n",
       "      <th>partner</th>\n",
       "      <th>dependents</th>\n",
       "      <th>tenure</th>\n",
       "      <th>phone_service</th>\n",
       "      <th>multiple_lines</th>\n",
       "      <th>internet_service_type_id</th>\n",
       "      <th>online_security</th>\n",
       "      <th>...</th>\n",
       "      <th>device_protection</th>\n",
       "      <th>tech_support</th>\n",
       "      <th>streaming_tv</th>\n",
       "      <th>streaming_movies</th>\n",
       "      <th>contract_type_id</th>\n",
       "      <th>paperless_billing</th>\n",
       "      <th>payment_type_id</th>\n",
       "      <th>monthly_charges</th>\n",
       "      <th>total_charges</th>\n",
       "      <th>churn</th>\n",
       "    </tr>\n",
       "  </thead>\n",
       "  <tbody>\n",
       "    <tr>\n",
       "      <th>0</th>\n",
       "      <td>0002-ORFBO</td>\n",
       "      <td>Female</td>\n",
       "      <td>0</td>\n",
       "      <td>Yes</td>\n",
       "      <td>Yes</td>\n",
       "      <td>9</td>\n",
       "      <td>Yes</td>\n",
       "      <td>No</td>\n",
       "      <td>1</td>\n",
       "      <td>No</td>\n",
       "      <td>...</td>\n",
       "      <td>No</td>\n",
       "      <td>Yes</td>\n",
       "      <td>Yes</td>\n",
       "      <td>No</td>\n",
       "      <td>2</td>\n",
       "      <td>Yes</td>\n",
       "      <td>2</td>\n",
       "      <td>65.60</td>\n",
       "      <td>593.3</td>\n",
       "      <td>No</td>\n",
       "    </tr>\n",
       "    <tr>\n",
       "      <th>1</th>\n",
       "      <td>0003-MKNFE</td>\n",
       "      <td>Male</td>\n",
       "      <td>0</td>\n",
       "      <td>No</td>\n",
       "      <td>No</td>\n",
       "      <td>9</td>\n",
       "      <td>Yes</td>\n",
       "      <td>Yes</td>\n",
       "      <td>1</td>\n",
       "      <td>No</td>\n",
       "      <td>...</td>\n",
       "      <td>No</td>\n",
       "      <td>No</td>\n",
       "      <td>No</td>\n",
       "      <td>Yes</td>\n",
       "      <td>1</td>\n",
       "      <td>No</td>\n",
       "      <td>2</td>\n",
       "      <td>59.90</td>\n",
       "      <td>542.4</td>\n",
       "      <td>No</td>\n",
       "    </tr>\n",
       "    <tr>\n",
       "      <th>2</th>\n",
       "      <td>0004-TLHLJ</td>\n",
       "      <td>Male</td>\n",
       "      <td>0</td>\n",
       "      <td>No</td>\n",
       "      <td>No</td>\n",
       "      <td>4</td>\n",
       "      <td>Yes</td>\n",
       "      <td>No</td>\n",
       "      <td>2</td>\n",
       "      <td>No</td>\n",
       "      <td>...</td>\n",
       "      <td>Yes</td>\n",
       "      <td>No</td>\n",
       "      <td>No</td>\n",
       "      <td>No</td>\n",
       "      <td>1</td>\n",
       "      <td>Yes</td>\n",
       "      <td>1</td>\n",
       "      <td>73.90</td>\n",
       "      <td>280.85</td>\n",
       "      <td>Yes</td>\n",
       "    </tr>\n",
       "    <tr>\n",
       "      <th>3</th>\n",
       "      <td>0011-IGKFF</td>\n",
       "      <td>Male</td>\n",
       "      <td>1</td>\n",
       "      <td>Yes</td>\n",
       "      <td>No</td>\n",
       "      <td>13</td>\n",
       "      <td>Yes</td>\n",
       "      <td>No</td>\n",
       "      <td>2</td>\n",
       "      <td>No</td>\n",
       "      <td>...</td>\n",
       "      <td>Yes</td>\n",
       "      <td>No</td>\n",
       "      <td>Yes</td>\n",
       "      <td>Yes</td>\n",
       "      <td>1</td>\n",
       "      <td>Yes</td>\n",
       "      <td>1</td>\n",
       "      <td>98.00</td>\n",
       "      <td>1237.85</td>\n",
       "      <td>Yes</td>\n",
       "    </tr>\n",
       "    <tr>\n",
       "      <th>4</th>\n",
       "      <td>0013-EXCHZ</td>\n",
       "      <td>Female</td>\n",
       "      <td>1</td>\n",
       "      <td>Yes</td>\n",
       "      <td>No</td>\n",
       "      <td>3</td>\n",
       "      <td>Yes</td>\n",
       "      <td>No</td>\n",
       "      <td>2</td>\n",
       "      <td>No</td>\n",
       "      <td>...</td>\n",
       "      <td>No</td>\n",
       "      <td>Yes</td>\n",
       "      <td>Yes</td>\n",
       "      <td>No</td>\n",
       "      <td>1</td>\n",
       "      <td>Yes</td>\n",
       "      <td>2</td>\n",
       "      <td>83.90</td>\n",
       "      <td>267.4</td>\n",
       "      <td>Yes</td>\n",
       "    </tr>\n",
       "    <tr>\n",
       "      <th>...</th>\n",
       "      <td>...</td>\n",
       "      <td>...</td>\n",
       "      <td>...</td>\n",
       "      <td>...</td>\n",
       "      <td>...</td>\n",
       "      <td>...</td>\n",
       "      <td>...</td>\n",
       "      <td>...</td>\n",
       "      <td>...</td>\n",
       "      <td>...</td>\n",
       "      <td>...</td>\n",
       "      <td>...</td>\n",
       "      <td>...</td>\n",
       "      <td>...</td>\n",
       "      <td>...</td>\n",
       "      <td>...</td>\n",
       "      <td>...</td>\n",
       "      <td>...</td>\n",
       "      <td>...</td>\n",
       "      <td>...</td>\n",
       "      <td>...</td>\n",
       "    </tr>\n",
       "    <tr>\n",
       "      <th>7038</th>\n",
       "      <td>9987-LUTYD</td>\n",
       "      <td>Female</td>\n",
       "      <td>0</td>\n",
       "      <td>No</td>\n",
       "      <td>No</td>\n",
       "      <td>13</td>\n",
       "      <td>Yes</td>\n",
       "      <td>No</td>\n",
       "      <td>1</td>\n",
       "      <td>Yes</td>\n",
       "      <td>...</td>\n",
       "      <td>No</td>\n",
       "      <td>Yes</td>\n",
       "      <td>No</td>\n",
       "      <td>No</td>\n",
       "      <td>2</td>\n",
       "      <td>No</td>\n",
       "      <td>2</td>\n",
       "      <td>55.15</td>\n",
       "      <td>742.9</td>\n",
       "      <td>No</td>\n",
       "    </tr>\n",
       "    <tr>\n",
       "      <th>7039</th>\n",
       "      <td>9992-RRAMN</td>\n",
       "      <td>Male</td>\n",
       "      <td>0</td>\n",
       "      <td>Yes</td>\n",
       "      <td>No</td>\n",
       "      <td>22</td>\n",
       "      <td>Yes</td>\n",
       "      <td>Yes</td>\n",
       "      <td>2</td>\n",
       "      <td>No</td>\n",
       "      <td>...</td>\n",
       "      <td>No</td>\n",
       "      <td>No</td>\n",
       "      <td>No</td>\n",
       "      <td>Yes</td>\n",
       "      <td>1</td>\n",
       "      <td>Yes</td>\n",
       "      <td>1</td>\n",
       "      <td>85.10</td>\n",
       "      <td>1873.7</td>\n",
       "      <td>Yes</td>\n",
       "    </tr>\n",
       "    <tr>\n",
       "      <th>7040</th>\n",
       "      <td>9992-UJOEL</td>\n",
       "      <td>Male</td>\n",
       "      <td>0</td>\n",
       "      <td>No</td>\n",
       "      <td>No</td>\n",
       "      <td>2</td>\n",
       "      <td>Yes</td>\n",
       "      <td>No</td>\n",
       "      <td>1</td>\n",
       "      <td>No</td>\n",
       "      <td>...</td>\n",
       "      <td>No</td>\n",
       "      <td>No</td>\n",
       "      <td>No</td>\n",
       "      <td>No</td>\n",
       "      <td>1</td>\n",
       "      <td>Yes</td>\n",
       "      <td>2</td>\n",
       "      <td>50.30</td>\n",
       "      <td>92.75</td>\n",
       "      <td>No</td>\n",
       "    </tr>\n",
       "    <tr>\n",
       "      <th>7041</th>\n",
       "      <td>9993-LHIEB</td>\n",
       "      <td>Male</td>\n",
       "      <td>0</td>\n",
       "      <td>Yes</td>\n",
       "      <td>Yes</td>\n",
       "      <td>67</td>\n",
       "      <td>Yes</td>\n",
       "      <td>No</td>\n",
       "      <td>1</td>\n",
       "      <td>Yes</td>\n",
       "      <td>...</td>\n",
       "      <td>Yes</td>\n",
       "      <td>Yes</td>\n",
       "      <td>No</td>\n",
       "      <td>Yes</td>\n",
       "      <td>3</td>\n",
       "      <td>No</td>\n",
       "      <td>2</td>\n",
       "      <td>67.85</td>\n",
       "      <td>4627.65</td>\n",
       "      <td>No</td>\n",
       "    </tr>\n",
       "    <tr>\n",
       "      <th>7042</th>\n",
       "      <td>9995-HOTOH</td>\n",
       "      <td>Male</td>\n",
       "      <td>0</td>\n",
       "      <td>Yes</td>\n",
       "      <td>Yes</td>\n",
       "      <td>63</td>\n",
       "      <td>No</td>\n",
       "      <td>No phone service</td>\n",
       "      <td>1</td>\n",
       "      <td>Yes</td>\n",
       "      <td>...</td>\n",
       "      <td>Yes</td>\n",
       "      <td>No</td>\n",
       "      <td>Yes</td>\n",
       "      <td>Yes</td>\n",
       "      <td>3</td>\n",
       "      <td>No</td>\n",
       "      <td>1</td>\n",
       "      <td>59.00</td>\n",
       "      <td>3707.6</td>\n",
       "      <td>No</td>\n",
       "    </tr>\n",
       "  </tbody>\n",
       "</table>\n",
       "<p>7043 rows × 21 columns</p>\n",
       "</div>"
      ],
      "text/plain": [
       "     customer_id  gender  senior_citizen partner dependents  tenure  \\\n",
       "0     0002-ORFBO  Female               0     Yes        Yes       9   \n",
       "1     0003-MKNFE    Male               0      No         No       9   \n",
       "2     0004-TLHLJ    Male               0      No         No       4   \n",
       "3     0011-IGKFF    Male               1     Yes         No      13   \n",
       "4     0013-EXCHZ  Female               1     Yes         No       3   \n",
       "...          ...     ...             ...     ...        ...     ...   \n",
       "7038  9987-LUTYD  Female               0      No         No      13   \n",
       "7039  9992-RRAMN    Male               0     Yes         No      22   \n",
       "7040  9992-UJOEL    Male               0      No         No       2   \n",
       "7041  9993-LHIEB    Male               0     Yes        Yes      67   \n",
       "7042  9995-HOTOH    Male               0     Yes        Yes      63   \n",
       "\n",
       "     phone_service    multiple_lines  internet_service_type_id  \\\n",
       "0              Yes                No                         1   \n",
       "1              Yes               Yes                         1   \n",
       "2              Yes                No                         2   \n",
       "3              Yes                No                         2   \n",
       "4              Yes                No                         2   \n",
       "...            ...               ...                       ...   \n",
       "7038           Yes                No                         1   \n",
       "7039           Yes               Yes                         2   \n",
       "7040           Yes                No                         1   \n",
       "7041           Yes                No                         1   \n",
       "7042            No  No phone service                         1   \n",
       "\n",
       "     online_security  ... device_protection tech_support streaming_tv  \\\n",
       "0                 No  ...                No          Yes          Yes   \n",
       "1                 No  ...                No           No           No   \n",
       "2                 No  ...               Yes           No           No   \n",
       "3                 No  ...               Yes           No          Yes   \n",
       "4                 No  ...                No          Yes          Yes   \n",
       "...              ...  ...               ...          ...          ...   \n",
       "7038             Yes  ...                No          Yes           No   \n",
       "7039              No  ...                No           No           No   \n",
       "7040              No  ...                No           No           No   \n",
       "7041             Yes  ...               Yes          Yes           No   \n",
       "7042             Yes  ...               Yes           No          Yes   \n",
       "\n",
       "     streaming_movies contract_type_id  paperless_billing payment_type_id  \\\n",
       "0                  No                2                Yes               2   \n",
       "1                 Yes                1                 No               2   \n",
       "2                  No                1                Yes               1   \n",
       "3                 Yes                1                Yes               1   \n",
       "4                  No                1                Yes               2   \n",
       "...               ...              ...                ...             ...   \n",
       "7038               No                2                 No               2   \n",
       "7039              Yes                1                Yes               1   \n",
       "7040               No                1                Yes               2   \n",
       "7041              Yes                3                 No               2   \n",
       "7042              Yes                3                 No               1   \n",
       "\n",
       "      monthly_charges  total_charges churn  \n",
       "0               65.60          593.3    No  \n",
       "1               59.90          542.4    No  \n",
       "2               73.90         280.85   Yes  \n",
       "3               98.00        1237.85   Yes  \n",
       "4               83.90          267.4   Yes  \n",
       "...               ...            ...   ...  \n",
       "7038            55.15          742.9    No  \n",
       "7039            85.10         1873.7   Yes  \n",
       "7040            50.30          92.75    No  \n",
       "7041            67.85        4627.65    No  \n",
       "7042            59.00         3707.6    No  \n",
       "\n",
       "[7043 rows x 21 columns]"
      ]
     },
     "execution_count": 86,
     "metadata": {},
     "output_type": "execute_result"
    }
   ],
   "source": [
    "db = 'telco_churn'\n",
    "engine = create_engine(env.get_db_url(db))\n",
    "query = text('select * from customers')\n",
    "tco_df = pd.read_sql(query, engine.connect())\n",
    "tco_df"
   ]
  },
  {
   "cell_type": "code",
   "execution_count": 87,
   "id": "44d6abc9-0e9f-425e-a631-745a80c3a3f2",
   "metadata": {
    "tags": []
   },
   "outputs": [],
   "source": [
    "# Does tenure correlate with monthly charges\n",
    "ten_cust = tco_df[['tenure', 'monthly_charges']]"
   ]
  },
  {
   "cell_type": "markdown",
   "id": "b762c22c-e539-4583-9594-cbe34f964182",
   "metadata": {},
   "source": [
    "$H_o$: there is no linear correlation between tenure and monthly charges\n",
    "\n",
    "\n",
    "$H_a$: there is linear correlation beteween tenure and monthly charges."
   ]
  },
  {
   "cell_type": "code",
   "execution_count": 88,
   "id": "05f890e0-14f7-4398-894e-90932ee28d8a",
   "metadata": {
    "tags": []
   },
   "outputs": [
    {
     "data": {
      "text/html": [
       "<div>\n",
       "<style scoped>\n",
       "    .dataframe tbody tr th:only-of-type {\n",
       "        vertical-align: middle;\n",
       "    }\n",
       "\n",
       "    .dataframe tbody tr th {\n",
       "        vertical-align: top;\n",
       "    }\n",
       "\n",
       "    .dataframe thead th {\n",
       "        text-align: right;\n",
       "    }\n",
       "</style>\n",
       "<table border=\"1\" class=\"dataframe\">\n",
       "  <thead>\n",
       "    <tr style=\"text-align: right;\">\n",
       "      <th></th>\n",
       "      <th>tenure</th>\n",
       "      <th>monthly_charges</th>\n",
       "    </tr>\n",
       "  </thead>\n",
       "  <tbody>\n",
       "    <tr>\n",
       "      <th>0</th>\n",
       "      <td>9</td>\n",
       "      <td>65.60</td>\n",
       "    </tr>\n",
       "    <tr>\n",
       "      <th>1</th>\n",
       "      <td>9</td>\n",
       "      <td>59.90</td>\n",
       "    </tr>\n",
       "    <tr>\n",
       "      <th>2</th>\n",
       "      <td>4</td>\n",
       "      <td>73.90</td>\n",
       "    </tr>\n",
       "    <tr>\n",
       "      <th>3</th>\n",
       "      <td>13</td>\n",
       "      <td>98.00</td>\n",
       "    </tr>\n",
       "    <tr>\n",
       "      <th>4</th>\n",
       "      <td>3</td>\n",
       "      <td>83.90</td>\n",
       "    </tr>\n",
       "    <tr>\n",
       "      <th>...</th>\n",
       "      <td>...</td>\n",
       "      <td>...</td>\n",
       "    </tr>\n",
       "    <tr>\n",
       "      <th>7038</th>\n",
       "      <td>13</td>\n",
       "      <td>55.15</td>\n",
       "    </tr>\n",
       "    <tr>\n",
       "      <th>7039</th>\n",
       "      <td>22</td>\n",
       "      <td>85.10</td>\n",
       "    </tr>\n",
       "    <tr>\n",
       "      <th>7040</th>\n",
       "      <td>2</td>\n",
       "      <td>50.30</td>\n",
       "    </tr>\n",
       "    <tr>\n",
       "      <th>7041</th>\n",
       "      <td>67</td>\n",
       "      <td>67.85</td>\n",
       "    </tr>\n",
       "    <tr>\n",
       "      <th>7042</th>\n",
       "      <td>63</td>\n",
       "      <td>59.00</td>\n",
       "    </tr>\n",
       "  </tbody>\n",
       "</table>\n",
       "<p>7043 rows × 2 columns</p>\n",
       "</div>"
      ],
      "text/plain": [
       "      tenure  monthly_charges\n",
       "0          9            65.60\n",
       "1          9            59.90\n",
       "2          4            73.90\n",
       "3         13            98.00\n",
       "4          3            83.90\n",
       "...      ...              ...\n",
       "7038      13            55.15\n",
       "7039      22            85.10\n",
       "7040       2            50.30\n",
       "7041      67            67.85\n",
       "7042      63            59.00\n",
       "\n",
       "[7043 rows x 2 columns]"
      ]
     },
     "execution_count": 88,
     "metadata": {},
     "output_type": "execute_result"
    }
   ],
   "source": [
    "ten_cust\n"
   ]
  },
  {
   "cell_type": "code",
   "execution_count": 89,
   "id": "f0684a95-84e2-4f88-b49b-5bf11d579564",
   "metadata": {
    "tags": []
   },
   "outputs": [],
   "source": [
    "x = ten_cust.tenure\n",
    "y = ten_cust.monthly_charges\n",
    "alpha = 0.05\n",
    "# h0"
   ]
  },
  {
   "cell_type": "code",
   "execution_count": 90,
   "id": "20b57de6-1b84-4902-acc8-b5cb116296b1",
   "metadata": {
    "tags": []
   },
   "outputs": [
    {
     "data": {
      "text/plain": [
       "<Axes: xlabel='tenure', ylabel='monthly_charges'>"
      ]
     },
     "execution_count": 90,
     "metadata": {},
     "output_type": "execute_result"
    },
    {
     "data": {
      "image/png": "[encoded data removed]",
      "text/plain": [
       "<Figure size 640x480 with 1 Axes>"
      ]
     },
     "metadata": {},
     "output_type": "display_data"
    }
   ],
   "source": [
    "#tenure vs monthly charges\n",
    "sns.regplot(x='tenure', y='monthly_charges', data = ten_cust, marker='.', line_kws={'color' : 'orange'})"
   ]
  },
  {
   "cell_type": "code",
   "execution_count": 91,
   "id": "b5d77578-ad3f-466f-8bd4-0026d96c2952",
   "metadata": {
    "tags": []
   },
   "outputs": [],
   "source": [
    "def eval_dist(r,p,alpha=0.05):\n",
    "    if p>alpha:\n",
    "        return print(f'''The data is normally distributed''')\n",
    "    else:\n",
    "        return print(f'''The data is NOT normally distributed''')"
   ]
  },
  {
   "cell_type": "code",
   "execution_count": 92,
   "id": "43009b37-6844-4784-96d8-6abbb569eed9",
   "metadata": {
    "tags": []
   },
   "outputs": [],
   "source": [
    "from scipy.stats import shapiro"
   ]
  },
  {
   "cell_type": "code",
   "execution_count": 93,
   "id": "75366adb-c065-4bb2-8952-9e55638730f5",
   "metadata": {
    "tags": []
   },
   "outputs": [
    {
     "name": "stderr",
     "output_type": "stream",
     "text": [
      "/opt/homebrew/anaconda3/lib/python3.11/site-packages/scipy/stats/_morestats.py:1816: UserWarning: p-value may not be accurate for N > 5000.\n",
      "  warnings.warn(\"p-value may not be accurate for N > 5000.\")\n"
     ]
    },
    {
     "data": {
      "text/plain": [
       "(0.9208889007568359, 0.0)"
      ]
     },
     "execution_count": 93,
     "metadata": {},
     "output_type": "execute_result"
    }
   ],
   "source": [
    "r, p = stats.shapiro(tco_df.monthly_charges)\n",
    "r, p"
   ]
  },
  {
   "cell_type": "code",
   "execution_count": 94,
   "id": "d994c663-8604-4414-9128-a83355294f8d",
   "metadata": {
    "tags": []
   },
   "outputs": [
    {
     "name": "stdout",
     "output_type": "stream",
     "text": [
      "The data is NOT normally distributed\n"
     ]
    }
   ],
   "source": [
    "eval_dist(r,p)"
   ]
  },
  {
   "cell_type": "code",
   "execution_count": 95,
   "id": "269dc481-0d7b-4cda-a3a1-0a67ae5eb28e",
   "metadata": {
    "tags": []
   },
   "outputs": [
    {
     "data": {
      "text/plain": [
       "(0.9037512540817261, 0.0)"
      ]
     },
     "execution_count": 95,
     "metadata": {},
     "output_type": "execute_result"
    }
   ],
   "source": [
    "r,p = stats.shapiro(tco_df.tenure)\n",
    "r, p"
   ]
  },
  {
   "cell_type": "code",
   "execution_count": 96,
   "id": "522bc897-c771-4555-972d-b07fdfd6345c",
   "metadata": {
    "tags": []
   },
   "outputs": [
    {
     "name": "stdout",
     "output_type": "stream",
     "text": [
      "The data is NOT normally distributed\n"
     ]
    }
   ],
   "source": [
    "eval_dist(r,p)"
   ]
  },
  {
   "cell_type": "code",
   "execution_count": 97,
   "id": "dc0bc8ea-c40a-4fae-8b0a-c39c210b93bd",
   "metadata": {
    "tags": []
   },
   "outputs": [
    {
     "data": {
      "text/plain": [
       "(0.27641678933130215, 1.0271266876409408e-123)"
      ]
     },
     "execution_count": 97,
     "metadata": {},
     "output_type": "execute_result"
    }
   ],
   "source": [
    "sr,sp = stats.spearmanr(ten_cust.tenure, ten_cust.monthly_charges)\n",
    "sr,sp"
   ]
  },
  {
   "cell_type": "code",
   "execution_count": 98,
   "id": "f19d4eef-a9a3-4ea7-9b4e-2c8fa2162737",
   "metadata": {
    "tags": []
   },
   "outputs": [],
   "source": [
    "def eval_Sresult(r, p, α=0.05):\n",
    "    if p < α:\n",
    "        return print(f\"\"\"Reject the null hypothesis. There is a linear correlation.\n",
    "Spearman’s r: {r:2f}\n",
    "P-value: {p}\"\"\")\n",
    "    else:\n",
    "        return print(f\"\"\"We fail to reject the null hypothesis that there is a linear correlation.\n",
    "Spearman’s r: {r:2f}\n",
    "P-value: {p}\"\"\")"
   ]
  },
  {
   "cell_type": "code",
   "execution_count": 99,
   "id": "af084beb-0c1e-465a-a6ce-218e2a1d00da",
   "metadata": {
    "tags": []
   },
   "outputs": [
    {
     "name": "stdout",
     "output_type": "stream",
     "text": [
      "Reject the null hypothesis. There is a linear correlation.\n",
      "Spearman’s r: 0.276417\n",
      "P-value: 1.0271266876409408e-123\n"
     ]
    }
   ],
   "source": [
    "eval_Sresult(sr,sp)"
   ]
  },
  {
   "cell_type": "code",
   "execution_count": 100,
   "id": "3e22fb3e-ddd3-4c99-9096-b80a921fd824",
   "metadata": {
    "tags": []
   },
   "outputs": [],
   "source": [
    "ttl_charges_df = tco_df[['tenure', 'total_charges']]\n"
   ]
  },
  {
   "cell_type": "code",
   "execution_count": 101,
   "id": "41e4407c-5d2f-42d7-87e6-40ff79b65325",
   "metadata": {
    "tags": []
   },
   "outputs": [
    {
     "name": "stderr",
     "output_type": "stream",
     "text": [
      "/var/folders/jd/t05l8rl14_l105k8kn2tdng40000gn/T/ipykernel_49630/309502529.py:1: SettingWithCopyWarning: \n",
      "A value is trying to be set on a copy of a slice from a DataFrame.\n",
      "Try using .loc[row_indexer,col_indexer] = value instead\n",
      "\n",
      "See the caveats in the documentation: https://pandas.pydata.org/pandas-docs/stable/user_guide/indexing.html#returning-a-view-versus-a-copy\n",
      "  ttl_charges_df['total_charges']= ttl_charges_df['total_charges'].str.replace(' ', '0').astype('float')\n"
     ]
    }
   ],
   "source": [
    "ttl_charges_df['total_charges']= ttl_charges_df['total_charges'].str.replace(' ', '0').astype('float')"
   ]
  },
  {
   "cell_type": "code",
   "execution_count": 102,
   "id": "ebe1fcd5-3464-404e-8cee-c4d459d13f1f",
   "metadata": {
    "tags": []
   },
   "outputs": [
    {
     "name": "stdout",
     "output_type": "stream",
     "text": [
      "<class 'pandas.core.frame.DataFrame'>\n",
      "RangeIndex: 7043 entries, 0 to 7042\n",
      "Data columns (total 2 columns):\n",
      " #   Column         Non-Null Count  Dtype  \n",
      "---  ------         --------------  -----  \n",
      " 0   tenure         7043 non-null   int64  \n",
      " 1   total_charges  7043 non-null   float64\n",
      "dtypes: float64(1), int64(1)\n",
      "memory usage: 110.2 KB\n"
     ]
    }
   ],
   "source": [
    "ttl_charges_df.info()"
   ]
  },
  {
   "cell_type": "code",
   "execution_count": 103,
   "id": "c439d664-15e4-4605-9b2b-99cd4e968877",
   "metadata": {
    "tags": []
   },
   "outputs": [
    {
     "data": {
      "image/png": "[encoded data removed]",
      "text/plain": [
       "<Figure size 640x480 with 1 Axes>"
      ]
     },
     "metadata": {},
     "output_type": "display_data"
    }
   ],
   "source": [
    "sns.regplot(x='tenure', y = 'total_charges', data=ttl_charges_df, marker='.', line_kws={'color': 'orange'})\n",
    "plt.show()"
   ]
  },
  {
   "cell_type": "code",
   "execution_count": 104,
   "id": "172ceb90-9b80-4f1e-8061-c21e605d4ecf",
   "metadata": {
    "tags": []
   },
   "outputs": [
    {
     "data": {
      "image/png": "[encoded data removed]",
      "text/plain": [
       "<Figure size 640x480 with 1 Axes>"
      ]
     },
     "metadata": {},
     "output_type": "display_data"
    },
    {
     "data": {
      "image/png": "[encoded data removed]",
      "text/plain": [
       "<Figure size 640x480 with 1 Axes>"
      ]
     },
     "metadata": {},
     "output_type": "display_data"
    }
   ],
   "source": [
    "#visual check for distribution of total charges\n",
    "ttl_charges_df.total_charges.hist()\n",
    "plt.show()\n",
    "\n",
    "#visual check for distribution of tenure\n",
    "ttl_charges_df.tenure.hist()\n",
    "plt.show()"
   ]
  },
  {
   "cell_type": "code",
   "execution_count": 105,
   "id": "5d94aa6b-38f3-41c4-86e9-899f23bce832",
   "metadata": {
    "tags": []
   },
   "outputs": [
    {
     "name": "stderr",
     "output_type": "stream",
     "text": [
      "/opt/homebrew/anaconda3/lib/python3.11/site-packages/scipy/stats/_morestats.py:1816: UserWarning: p-value may not be accurate for N > 5000.\n",
      "  warnings.warn(\"p-value may not be accurate for N > 5000.\")\n"
     ]
    },
    {
     "data": {
      "text/plain": [
       "(0.8601521253585815, 0.0)"
      ]
     },
     "execution_count": 105,
     "metadata": {},
     "output_type": "execute_result"
    }
   ],
   "source": [
    "#get r and p values using stats library\n",
    "r,p = stats.shapiro(ttl_charges_df.total_charges)\n",
    "\n",
    "#see those values\n",
    "r,p"
   ]
  },
  {
   "cell_type": "code",
   "execution_count": 106,
   "id": "d3a5c5ee-99eb-4e32-b400-17d43b6e4cdd",
   "metadata": {
    "tags": []
   },
   "outputs": [
    {
     "name": "stdout",
     "output_type": "stream",
     "text": [
      "The data is NOT normally distributed\n"
     ]
    }
   ],
   "source": [
    "eval_dist(r,p)"
   ]
  },
  {
   "cell_type": "code",
   "execution_count": 107,
   "id": "3d6f835a-b2eb-45a1-bcb1-c9c593729473",
   "metadata": {
    "tags": []
   },
   "outputs": [
    {
     "data": {
      "text/plain": [
       "(0.8896957900597577, 0.0)"
      ]
     },
     "execution_count": 107,
     "metadata": {},
     "output_type": "execute_result"
    }
   ],
   "source": [
    "sr,sp = stats.spearmanr(ttl_charges_df.tenure, ttl_charges_df.total_charges)\n",
    "sr,sp"
   ]
  },
  {
   "cell_type": "code",
   "execution_count": 108,
   "id": "d0579e84-ca59-4241-b201-95724f29b451",
   "metadata": {
    "tags": []
   },
   "outputs": [
    {
     "name": "stdout",
     "output_type": "stream",
     "text": [
      "Reject the null hypothesis. There is a linear correlation.\n",
      "Spearman’s r: 0.889696\n",
      "P-value: 0.0\n"
     ]
    }
   ],
   "source": [
    "eval_Sresult(sr,sp)"
   ]
  },
  {
   "cell_type": "markdown",
   "id": "f9c97686-9c50-4576-b73d-eb52a1934833",
   "metadata": {},
   "source": [
    "$H_o$: There is no linear correlation between tenure and monthly charges of phone & internet customers\n",
    "\n",
    "\n",
    "$H_a$: There is a linaer correlation between tenure and monthly charges of phone & internet customers"
   ]
  },
  {
   "cell_type": "code",
   "execution_count": 109,
   "id": "0b13507f-282e-4b32-a153-2437c4f4f30b",
   "metadata": {
    "tags": []
   },
   "outputs": [],
   "source": [
    "phone_df = tco_df[(tco_df.phone_service == \"Yes\") & (tco_df.internet_service_type_id == 1)][['monthly_charges', 'tenure']]\n"
   ]
  },
  {
   "cell_type": "code",
   "execution_count": 110,
   "id": "38b2a8c5-e5b4-498e-ae5e-52d9629629e0",
   "metadata": {
    "tags": []
   },
   "outputs": [
    {
     "name": "stdout",
     "output_type": "stream",
     "text": [
      "<class 'pandas.core.frame.DataFrame'>\n",
      "Int64Index: 1739 entries, 0 to 7041\n",
      "Data columns (total 2 columns):\n",
      " #   Column           Non-Null Count  Dtype  \n",
      "---  ------           --------------  -----  \n",
      " 0   monthly_charges  1739 non-null   float64\n",
      " 1   tenure           1739 non-null   int64  \n",
      "dtypes: float64(1), int64(1)\n",
      "memory usage: 40.8 KB\n"
     ]
    }
   ],
   "source": [
    "phone_df.info()\n"
   ]
  },
  {
   "cell_type": "code",
   "execution_count": 111,
   "id": "0398c861-8f12-4464-973d-987f139dee35",
   "metadata": {
    "tags": []
   },
   "outputs": [
    {
     "data": {
      "image/png": "[encoded data removed]",
      "text/plain": [
       "<Figure size 640x480 with 1 Axes>"
      ]
     },
     "metadata": {},
     "output_type": "display_data"
    }
   ],
   "source": [
    "sns.regplot(x='tenure', y = 'monthly_charges', data=phone_df, marker='.', line_kws={'color': 'orange'})\n",
    "plt.show()\n"
   ]
  },
  {
   "cell_type": "code",
   "execution_count": 112,
   "id": "87f99de9-f746-4831-a087-eeafe507bd40",
   "metadata": {
    "tags": []
   },
   "outputs": [
    {
     "data": {
      "image/png": "[encoded data removed]",
      "text/plain": [
       "<Figure size 640x480 with 1 Axes>"
      ]
     },
     "metadata": {},
     "output_type": "display_data"
    },
    {
     "data": {
      "image/png": "[encoded data removed]",
      "text/plain": [
       "<Figure size 640x480 with 1 Axes>"
      ]
     },
     "metadata": {},
     "output_type": "display_data"
    }
   ],
   "source": [
    "phone_df.monthly_charges.hist()\n",
    "plt.show()\n",
    "phone_df.tenure.hist()\n",
    "plt.show()"
   ]
  },
  {
   "cell_type": "code",
   "execution_count": 113,
   "id": "992fa386-1a94-47e6-891c-1851a7ca4192",
   "metadata": {
    "tags": []
   },
   "outputs": [
    {
     "data": {
      "text/plain": [
       "(0.9584369659423828, 7.019588771857106e-22)"
      ]
     },
     "execution_count": 113,
     "metadata": {},
     "output_type": "execute_result"
    }
   ],
   "source": [
    "#shapiro for monthly charges\n",
    "r,p = stats.shapiro(phone_df.monthly_charges)\n",
    "\n",
    "#see those values\n",
    "r,p\n"
   ]
  },
  {
   "cell_type": "code",
   "execution_count": 114,
   "id": "e2c43e58-b58c-4a0b-b080-a104000aa849",
   "metadata": {
    "tags": []
   },
   "outputs": [
    {
     "name": "stdout",
     "output_type": "stream",
     "text": [
      "The data is NOT normally distributed\n"
     ]
    }
   ],
   "source": [
    "eval_dist(r,p)"
   ]
  },
  {
   "cell_type": "code",
   "execution_count": 115,
   "id": "76019076-ad3d-4a2c-a122-0a03c4b33850",
   "metadata": {
    "tags": []
   },
   "outputs": [
    {
     "data": {
      "text/plain": [
       "(0.8991788029670715, 2.3523856297437335e-32)"
      ]
     },
     "execution_count": 115,
     "metadata": {},
     "output_type": "execute_result"
    }
   ],
   "source": [
    "#shapiro for tenure\n",
    "r,p = stats.shapiro(phone_df.tenure)\n",
    "\n",
    "#see those values\n",
    "r,p"
   ]
  },
  {
   "cell_type": "code",
   "execution_count": 116,
   "id": "85a6ee14-a673-4318-86c0-b04b7d2c687e",
   "metadata": {
    "tags": []
   },
   "outputs": [
    {
     "name": "stdout",
     "output_type": "stream",
     "text": [
      "The data is NOT normally distributed\n"
     ]
    }
   ],
   "source": [
    "#using the function we created\n",
    "eval_dist(r,p)"
   ]
  },
  {
   "cell_type": "code",
   "execution_count": 117,
   "id": "f93d317a-e6b4-4e14-aded-889cbe4ef587",
   "metadata": {
    "tags": []
   },
   "outputs": [
    {
     "data": {
      "text/plain": [
       "(0.6644708508462759, 5.423601644635052e-222)"
      ]
     },
     "execution_count": 117,
     "metadata": {},
     "output_type": "execute_result"
    }
   ],
   "source": [
    "sr,sp = stats.spearmanr(phone_df.tenure, phone_df.monthly_charges)\n",
    "sr,sp"
   ]
  },
  {
   "cell_type": "code",
   "execution_count": 118,
   "id": "a8639888-3766-4538-a9de-e0cb7d970877",
   "metadata": {
    "tags": []
   },
   "outputs": [
    {
     "name": "stdout",
     "output_type": "stream",
     "text": [
      "Reject the null hypothesis. There is a linear correlation.\n",
      "Spearman’s r: 0.899179\n",
      "P-value: 2.3523856297437335e-32\n"
     ]
    }
   ],
   "source": [
    "eval_Sresult(r,p)"
   ]
  },
  {
   "cell_type": "markdown",
   "id": "00743834-7896-45aa-a137-deaed7d8d529",
   "metadata": {},
   "source": [
    "# 3.) Use the employees database.\n",
    "- Is there a relationship between how long an employee has been with the company and their salary?\n",
    "- Is there a relationship between how long an employee has been with the company and the number of titles they have had?"
   ]
  },
  {
   "cell_type": "code",
   "execution_count": 119,
   "id": "554b3e26-37ab-447a-8bfd-ae0ec10769b0",
   "metadata": {
    "tags": []
   },
   "outputs": [],
   "source": [
    "query = \"\"\"\n",
    "select * \n",
    "from (\n",
    "\tselect \n",
    "\t\te.emp_no\n",
    "\t\t,s.salary\n",
    "\t\t,e.hire_date\n",
    "\t\t,CASE WHEN s.to_date = '9999-01-01'\n",
    "\t\t\tTHEN (select MAX(to_date) from salaries where to_date!='9999-01-01') -- this outputs the max to_date of 8-1-02\n",
    "\t\t\tELSE s.to_date\n",
    "\t\t\tEND AS to_date\n",
    "\t\t-- partition by columns that create unique observations\n",
    "\t\t,row_number() over(partition by e.emp_no, e.hire_date order by s.to_date DESC) as rn\n",
    "\tfrom employees e \n",
    "\tjoin salaries s  on s.emp_no = e.emp_no) base\n",
    "where base.rn = 1;\n",
    "\"\"\""
   ]
  },
  {
   "cell_type": "code",
   "execution_count": 120,
   "id": "0ccac3b3-2d92-43a0-87e3-0877651ec503",
   "metadata": {
    "tags": []
   },
   "outputs": [
    {
     "data": {
      "text/html": [
       "<div>\n",
       "<style scoped>\n",
       "    .dataframe tbody tr th:only-of-type {\n",
       "        vertical-align: middle;\n",
       "    }\n",
       "\n",
       "    .dataframe tbody tr th {\n",
       "        vertical-align: top;\n",
       "    }\n",
       "\n",
       "    .dataframe thead th {\n",
       "        text-align: right;\n",
       "    }\n",
       "</style>\n",
       "<table border=\"1\" class=\"dataframe\">\n",
       "  <thead>\n",
       "    <tr style=\"text-align: right;\">\n",
       "      <th></th>\n",
       "      <th>emp_no</th>\n",
       "      <th>salary</th>\n",
       "      <th>hire_date</th>\n",
       "      <th>to_date</th>\n",
       "      <th>rn</th>\n",
       "    </tr>\n",
       "  </thead>\n",
       "  <tbody>\n",
       "    <tr>\n",
       "      <th>0</th>\n",
       "      <td>10001</td>\n",
       "      <td>88958</td>\n",
       "      <td>1986-06-26</td>\n",
       "      <td>2002-08-01</td>\n",
       "      <td>1</td>\n",
       "    </tr>\n",
       "    <tr>\n",
       "      <th>1</th>\n",
       "      <td>10002</td>\n",
       "      <td>72527</td>\n",
       "      <td>1985-11-21</td>\n",
       "      <td>2002-08-01</td>\n",
       "      <td>1</td>\n",
       "    </tr>\n",
       "    <tr>\n",
       "      <th>2</th>\n",
       "      <td>10003</td>\n",
       "      <td>43311</td>\n",
       "      <td>1986-08-28</td>\n",
       "      <td>2002-08-01</td>\n",
       "      <td>1</td>\n",
       "    </tr>\n",
       "    <tr>\n",
       "      <th>3</th>\n",
       "      <td>10004</td>\n",
       "      <td>74057</td>\n",
       "      <td>1986-12-01</td>\n",
       "      <td>2002-08-01</td>\n",
       "      <td>1</td>\n",
       "    </tr>\n",
       "    <tr>\n",
       "      <th>4</th>\n",
       "      <td>10005</td>\n",
       "      <td>94692</td>\n",
       "      <td>1989-09-12</td>\n",
       "      <td>2002-08-01</td>\n",
       "      <td>1</td>\n",
       "    </tr>\n",
       "    <tr>\n",
       "      <th>...</th>\n",
       "      <td>...</td>\n",
       "      <td>...</td>\n",
       "      <td>...</td>\n",
       "      <td>...</td>\n",
       "      <td>...</td>\n",
       "    </tr>\n",
       "    <tr>\n",
       "      <th>300019</th>\n",
       "      <td>499995</td>\n",
       "      <td>52868</td>\n",
       "      <td>1993-01-12</td>\n",
       "      <td>2002-08-01</td>\n",
       "      <td>1</td>\n",
       "    </tr>\n",
       "    <tr>\n",
       "      <th>300020</th>\n",
       "      <td>499996</td>\n",
       "      <td>69501</td>\n",
       "      <td>1990-09-27</td>\n",
       "      <td>2002-08-01</td>\n",
       "      <td>1</td>\n",
       "    </tr>\n",
       "    <tr>\n",
       "      <th>300021</th>\n",
       "      <td>499997</td>\n",
       "      <td>83441</td>\n",
       "      <td>1986-04-21</td>\n",
       "      <td>2002-08-01</td>\n",
       "      <td>1</td>\n",
       "    </tr>\n",
       "    <tr>\n",
       "      <th>300022</th>\n",
       "      <td>499998</td>\n",
       "      <td>55003</td>\n",
       "      <td>1993-10-13</td>\n",
       "      <td>2002-08-01</td>\n",
       "      <td>1</td>\n",
       "    </tr>\n",
       "    <tr>\n",
       "      <th>300023</th>\n",
       "      <td>499999</td>\n",
       "      <td>77303</td>\n",
       "      <td>1997-11-30</td>\n",
       "      <td>2002-08-01</td>\n",
       "      <td>1</td>\n",
       "    </tr>\n",
       "  </tbody>\n",
       "</table>\n",
       "<p>300024 rows × 5 columns</p>\n",
       "</div>"
      ],
      "text/plain": [
       "        emp_no  salary   hire_date     to_date  rn\n",
       "0        10001   88958  1986-06-26  2002-08-01   1\n",
       "1        10002   72527  1985-11-21  2002-08-01   1\n",
       "2        10003   43311  1986-08-28  2002-08-01   1\n",
       "3        10004   74057  1986-12-01  2002-08-01   1\n",
       "4        10005   94692  1989-09-12  2002-08-01   1\n",
       "...        ...     ...         ...         ...  ..\n",
       "300019  499995   52868  1993-01-12  2002-08-01   1\n",
       "300020  499996   69501  1990-09-27  2002-08-01   1\n",
       "300021  499997   83441  1986-04-21  2002-08-01   1\n",
       "300022  499998   55003  1993-10-13  2002-08-01   1\n",
       "300023  499999   77303  1997-11-30  2002-08-01   1\n",
       "\n",
       "[300024 rows x 5 columns]"
      ]
     },
     "execution_count": 120,
     "metadata": {},
     "output_type": "execute_result"
    }
   ],
   "source": [
    "some_db = 'employees'\n",
    "engine = create_engine(env.get_db_url(some_db))\n",
    "emp_df = pd.read_sql(query, engine.connect())\n",
    "emp_df"
   ]
  },
  {
   "cell_type": "code",
   "execution_count": 121,
   "id": "02366ee4-3e99-4801-b9f6-f1e26953abd5",
   "metadata": {
    "tags": []
   },
   "outputs": [
    {
     "name": "stdout",
     "output_type": "stream",
     "text": [
      "<class 'pandas.core.frame.DataFrame'>\n",
      "RangeIndex: 300024 entries, 0 to 300023\n",
      "Data columns (total 5 columns):\n",
      " #   Column     Non-Null Count   Dtype \n",
      "---  ------     --------------   ----- \n",
      " 0   emp_no     300024 non-null  int64 \n",
      " 1   salary     300024 non-null  int64 \n",
      " 2   hire_date  300024 non-null  object\n",
      " 3   to_date    300024 non-null  object\n",
      " 4   rn         300024 non-null  int64 \n",
      "dtypes: int64(3), object(2)\n",
      "memory usage: 11.4+ MB\n"
     ]
    }
   ],
   "source": [
    "emp_df.info()"
   ]
  },
  {
   "cell_type": "code",
   "execution_count": 122,
   "id": "0d9ed081-1abc-4536-be9b-7ca9df56c529",
   "metadata": {
    "tags": []
   },
   "outputs": [
    {
     "data": {
      "text/html": [
       "<div>\n",
       "<style scoped>\n",
       "    .dataframe tbody tr th:only-of-type {\n",
       "        vertical-align: middle;\n",
       "    }\n",
       "\n",
       "    .dataframe tbody tr th {\n",
       "        vertical-align: top;\n",
       "    }\n",
       "\n",
       "    .dataframe thead th {\n",
       "        text-align: right;\n",
       "    }\n",
       "</style>\n",
       "<table border=\"1\" class=\"dataframe\">\n",
       "  <thead>\n",
       "    <tr style=\"text-align: right;\">\n",
       "      <th></th>\n",
       "      <th>0</th>\n",
       "      <th>1</th>\n",
       "    </tr>\n",
       "  </thead>\n",
       "  <tbody>\n",
       "    <tr>\n",
       "      <th>0</th>\n",
       "      <td>5880</td>\n",
       "      <td>days</td>\n",
       "    </tr>\n",
       "    <tr>\n",
       "      <th>1</th>\n",
       "      <td>6097</td>\n",
       "      <td>days</td>\n",
       "    </tr>\n",
       "    <tr>\n",
       "      <th>2</th>\n",
       "      <td>5817</td>\n",
       "      <td>days</td>\n",
       "    </tr>\n",
       "    <tr>\n",
       "      <th>3</th>\n",
       "      <td>5722</td>\n",
       "      <td>days</td>\n",
       "    </tr>\n",
       "    <tr>\n",
       "      <th>4</th>\n",
       "      <td>4706</td>\n",
       "      <td>days</td>\n",
       "    </tr>\n",
       "    <tr>\n",
       "      <th>...</th>\n",
       "      <td>...</td>\n",
       "      <td>...</td>\n",
       "    </tr>\n",
       "    <tr>\n",
       "      <th>300019</th>\n",
       "      <td>3488</td>\n",
       "      <td>days</td>\n",
       "    </tr>\n",
       "    <tr>\n",
       "      <th>300020</th>\n",
       "      <td>4326</td>\n",
       "      <td>days</td>\n",
       "    </tr>\n",
       "    <tr>\n",
       "      <th>300021</th>\n",
       "      <td>5946</td>\n",
       "      <td>days</td>\n",
       "    </tr>\n",
       "    <tr>\n",
       "      <th>300022</th>\n",
       "      <td>3214</td>\n",
       "      <td>days</td>\n",
       "    </tr>\n",
       "    <tr>\n",
       "      <th>300023</th>\n",
       "      <td>1705</td>\n",
       "      <td>days</td>\n",
       "    </tr>\n",
       "  </tbody>\n",
       "</table>\n",
       "<p>300024 rows × 2 columns</p>\n",
       "</div>"
      ],
      "text/plain": [
       "           0     1\n",
       "0       5880  days\n",
       "1       6097  days\n",
       "2       5817  days\n",
       "3       5722  days\n",
       "4       4706  days\n",
       "...      ...   ...\n",
       "300019  3488  days\n",
       "300020  4326  days\n",
       "300021  5946  days\n",
       "300022  3214  days\n",
       "300023  1705  days\n",
       "\n",
       "[300024 rows x 2 columns]"
      ]
     },
     "execution_count": 122,
     "metadata": {},
     "output_type": "execute_result"
    }
   ],
   "source": [
    "# Needed to convert the datetime to float for amount of time employee was at company\n",
    "# With new column\n",
    "(emp_df.to_date - emp_df.hire_date).astype(str).str.split(\" \", expand=True)"
   ]
  },
  {
   "cell_type": "code",
   "execution_count": 123,
   "id": "ac241e55-fdf6-44f8-861d-8f87aff18e6a",
   "metadata": {
    "tags": []
   },
   "outputs": [],
   "source": [
    "#reformatted tenure \n",
    "emp_df['tenure'] = (emp_df.to_date - emp_df.hire_date).astype(str).str.split(\" \", expand=True)[0]\n"
   ]
  },
  {
   "cell_type": "code",
   "execution_count": 124,
   "id": "42c1c04c-b09c-4bdf-80de-ba90b9852139",
   "metadata": {
    "tags": []
   },
   "outputs": [],
   "source": [
    "#convert to int!\n",
    "\n",
    "emp_df.tenure = emp_df.tenure.astype(int)"
   ]
  },
  {
   "cell_type": "code",
   "execution_count": 125,
   "id": "ed2786f2-89e7-437a-85dd-d8d376b6f289",
   "metadata": {
    "tags": []
   },
   "outputs": [
    {
     "name": "stdout",
     "output_type": "stream",
     "text": [
      "<class 'pandas.core.frame.DataFrame'>\n",
      "RangeIndex: 300024 entries, 0 to 300023\n",
      "Data columns (total 6 columns):\n",
      " #   Column     Non-Null Count   Dtype \n",
      "---  ------     --------------   ----- \n",
      " 0   emp_no     300024 non-null  int64 \n",
      " 1   salary     300024 non-null  int64 \n",
      " 2   hire_date  300024 non-null  object\n",
      " 3   to_date    300024 non-null  object\n",
      " 4   rn         300024 non-null  int64 \n",
      " 5   tenure     300024 non-null  int64 \n",
      "dtypes: int64(4), object(2)\n",
      "memory usage: 13.7+ MB\n"
     ]
    }
   ],
   "source": [
    "emp_df.info()"
   ]
  },
  {
   "cell_type": "code",
   "execution_count": 126,
   "id": "12154162-0d33-4e6c-af2b-88cdcf650367",
   "metadata": {
    "tags": []
   },
   "outputs": [],
   "source": [
    "tenure_df = emp_df[['tenure', 'salary']]"
   ]
  },
  {
   "cell_type": "code",
   "execution_count": 127,
   "id": "139aa1af-beed-4b58-a3ba-3b81c90e4c5a",
   "metadata": {
    "tags": []
   },
   "outputs": [
    {
     "name": "stdout",
     "output_type": "stream",
     "text": [
      "<class 'pandas.core.frame.DataFrame'>\n",
      "RangeIndex: 300024 entries, 0 to 300023\n",
      "Data columns (total 2 columns):\n",
      " #   Column  Non-Null Count   Dtype\n",
      "---  ------  --------------   -----\n",
      " 0   tenure  300024 non-null  int64\n",
      " 1   salary  300024 non-null  int64\n",
      "dtypes: int64(2)\n",
      "memory usage: 4.6 MB\n"
     ]
    }
   ],
   "source": [
    "tenure_df.info()"
   ]
  },
  {
   "cell_type": "code",
   "execution_count": 128,
   "id": "3dd492e4-a64f-43a5-ba2d-784689b58b99",
   "metadata": {},
   "outputs": [
    {
     "data": {
      "image/png": "[encoded data removed]",
      "text/plain": [
       "<Figure size 640x480 with 1 Axes>"
      ]
     },
     "metadata": {},
     "output_type": "display_data"
    }
   ],
   "source": [
    "sns.regplot(x='tenure', y = 'salary', data=tenure_df, marker='.', line_kws=dict(color='orange'))\n",
    "plt.show()"
   ]
  },
  {
   "cell_type": "code",
   "execution_count": 129,
   "id": "04f3f5dd-ce5d-4635-9a3d-45c504e14fb9",
   "metadata": {
    "tags": []
   },
   "outputs": [
    {
     "data": {
      "image/png": "[encoded data removed]",
      "text/plain": [
       "<Figure size 640x480 with 1 Axes>"
      ]
     },
     "metadata": {},
     "output_type": "display_data"
    },
    {
     "data": {
      "image/png": "[encoded data removed]",
      "text/plain": [
       "<Figure size 640x480 with 1 Axes>"
      ]
     },
     "metadata": {},
     "output_type": "display_data"
    }
   ],
   "source": [
    "tenure_df.tenure.hist()\n",
    "plt.show()\n",
    "\n",
    "tenure_df.salary.hist()\n",
    "plt.show()\n",
    "\n"
   ]
  },
  {
   "cell_type": "code",
   "execution_count": 131,
   "id": "39bf6b69-b185-421c-8618-cffe77b67bc9",
   "metadata": {
    "tags": []
   },
   "outputs": [
    {
     "name": "stdout",
     "output_type": "stream",
     "text": [
      "The data is NOT normally distributed\n"
     ]
    }
   ],
   "source": [
    "r,p = stats.shapiro(tenure_df.tenure)\n",
    "eval_dist(r,p)"
   ]
  },
  {
   "cell_type": "code",
   "execution_count": 132,
   "id": "a0b8bf89-a3f6-4720-a18e-615b1e65b60a",
   "metadata": {
    "tags": []
   },
   "outputs": [
    {
     "name": "stdout",
     "output_type": "stream",
     "text": [
      "The data is NOT normally distributed\n"
     ]
    }
   ],
   "source": [
    "r,p = stats.shapiro(tenure_df.salary)\n",
    "eval_dist(r,p)"
   ]
  },
  {
   "cell_type": "code",
   "execution_count": 134,
   "id": "984e6c97-7c65-433c-baef-0c6949ab259a",
   "metadata": {
    "tags": []
   },
   "outputs": [
    {
     "data": {
      "text/plain": [
       "(0.3752474702658628, 0.0)"
      ]
     },
     "execution_count": 134,
     "metadata": {},
     "output_type": "execute_result"
    }
   ],
   "source": [
    "r,p = stats.spearmanr(emp_df.tenure, emp_df.salary)\n",
    "r,p"
   ]
  },
  {
   "cell_type": "code",
   "execution_count": 136,
   "id": "baca36b4-8efc-4ab4-9bdd-823f99d6d402",
   "metadata": {
    "tags": []
   },
   "outputs": [
    {
     "name": "stdout",
     "output_type": "stream",
     "text": [
      "Reject the null hypothesis. There is a linear correlation.\n",
      "Spearman’s r: 0.375247\n",
      "P-value: 0.0\n"
     ]
    }
   ],
   "source": [
    "eval_Sresult(r,p)"
   ]
  },
  {
   "cell_type": "markdown",
   "id": "13ab5812-7d77-4da5-a728-132c71d35ab0",
   "metadata": {},
   "source": [
    "\n",
    "\n",
    "\n",
    "4.) Use the sleepstudy data.\n",
    "- Is there a relationship between days and reaction time?"
   ]
  },
  {
   "cell_type": "markdown",
   "id": "4b650bd9-583d-42a0-b8c8-cdc757f74aaf",
   "metadata": {},
   "source": [
    "<b>1: State Hypothesis & Set $\\alpha$</b>\n",
    "- $H_0$: There is no correlation between days and reaction time\n",
    "- $H_a$: There is a correlation between days and reaction time"
   ]
  },
  {
   "cell_type": "markdown",
   "id": "8efb17a7-7be9-4cbb-b8a2-c031700fa2a3",
   "metadata": {},
   "source": [
    "2: Select data and run .info"
   ]
  },
  {
   "cell_type": "code",
   "execution_count": 138,
   "id": "17e70868-7616-4ba2-8bec-9ae5ad6b5d40",
   "metadata": {
    "tags": []
   },
   "outputs": [],
   "source": [
    "from pydataset import data"
   ]
  },
  {
   "cell_type": "code",
   "execution_count": 139,
   "id": "b768c93f-ffba-4655-a90d-cbca792a6d52",
   "metadata": {
    "tags": []
   },
   "outputs": [],
   "source": [
    "df = data('sleepstudy')"
   ]
  },
  {
   "cell_type": "code",
   "execution_count": 140,
   "id": "bacbb3bf-f7c5-4d61-81a1-d7f3e50ac369",
   "metadata": {},
   "outputs": [],
   "source": [
    "react_df = df[['Reaction', 'Days']]"
   ]
  },
  {
   "cell_type": "code",
   "execution_count": 141,
   "id": "337030e3-8d70-405e-9ea7-8f143a9a333c",
   "metadata": {
    "tags": []
   },
   "outputs": [
    {
     "name": "stdout",
     "output_type": "stream",
     "text": [
      "<class 'pandas.core.frame.DataFrame'>\n",
      "Int64Index: 180 entries, 1 to 180\n",
      "Data columns (total 2 columns):\n",
      " #   Column    Non-Null Count  Dtype  \n",
      "---  ------    --------------  -----  \n",
      " 0   Reaction  180 non-null    float64\n",
      " 1   Days      180 non-null    int64  \n",
      "dtypes: float64(1), int64(1)\n",
      "memory usage: 4.2 KB\n"
     ]
    }
   ],
   "source": [
    "react_df.info()"
   ]
  },
  {
   "cell_type": "code",
   "execution_count": 142,
   "id": "34dcff71-05da-45f0-baef-db53bc549a68",
   "metadata": {
    "tags": []
   },
   "outputs": [
    {
     "data": {
      "text/html": [
       "<div>\n",
       "<style scoped>\n",
       "    .dataframe tbody tr th:only-of-type {\n",
       "        vertical-align: middle;\n",
       "    }\n",
       "\n",
       "    .dataframe tbody tr th {\n",
       "        vertical-align: top;\n",
       "    }\n",
       "\n",
       "    .dataframe thead th {\n",
       "        text-align: right;\n",
       "    }\n",
       "</style>\n",
       "<table border=\"1\" class=\"dataframe\">\n",
       "  <thead>\n",
       "    <tr style=\"text-align: right;\">\n",
       "      <th></th>\n",
       "      <th>Reaction</th>\n",
       "      <th>Days</th>\n",
       "    </tr>\n",
       "  </thead>\n",
       "  <tbody>\n",
       "    <tr>\n",
       "      <th>1</th>\n",
       "      <td>249.5600</td>\n",
       "      <td>0</td>\n",
       "    </tr>\n",
       "    <tr>\n",
       "      <th>2</th>\n",
       "      <td>258.7047</td>\n",
       "      <td>1</td>\n",
       "    </tr>\n",
       "    <tr>\n",
       "      <th>3</th>\n",
       "      <td>250.8006</td>\n",
       "      <td>2</td>\n",
       "    </tr>\n",
       "    <tr>\n",
       "      <th>4</th>\n",
       "      <td>321.4398</td>\n",
       "      <td>3</td>\n",
       "    </tr>\n",
       "    <tr>\n",
       "      <th>5</th>\n",
       "      <td>356.8519</td>\n",
       "      <td>4</td>\n",
       "    </tr>\n",
       "  </tbody>\n",
       "</table>\n",
       "</div>"
      ],
      "text/plain": [
       "   Reaction  Days\n",
       "1  249.5600     0\n",
       "2  258.7047     1\n",
       "3  250.8006     2\n",
       "4  321.4398     3\n",
       "5  356.8519     4"
      ]
     },
     "execution_count": 142,
     "metadata": {},
     "output_type": "execute_result"
    }
   ],
   "source": [
    "react_df.head()"
   ]
  },
  {
   "cell_type": "code",
   "execution_count": 143,
   "id": "665ac762-d60c-4d1b-92a3-cc5237f4df1b",
   "metadata": {
    "tags": []
   },
   "outputs": [
    {
     "data": {
      "image/png": "[encoded data removed]",
      "text/plain": [
       "<Figure size 640x480 with 1 Axes>"
      ]
     },
     "metadata": {},
     "output_type": "display_data"
    }
   ],
   "source": [
    "sns.regplot(x='Days', y='Reaction', data=react_df, marker='.', line_kws=dict(color='orange'))\n",
    "plt.show()"
   ]
  },
  {
   "cell_type": "code",
   "execution_count": 144,
   "id": "6526898b-02d7-4741-93d7-f6b70af23a27",
   "metadata": {
    "tags": []
   },
   "outputs": [
    {
     "data": {
      "image/png": "[encoded data removed]",
      "text/plain": [
       "<Figure size 640x480 with 1 Axes>"
      ]
     },
     "metadata": {},
     "output_type": "display_data"
    },
    {
     "data": {
      "image/png": "[encoded data removed]",
      "text/plain": [
       "<Figure size 640x480 with 1 Axes>"
      ]
     },
     "metadata": {},
     "output_type": "display_data"
    }
   ],
   "source": [
    "react_df.Days.hist()\n",
    "plt.title('Days')\n",
    "plt.show()\n",
    "\n",
    "react_df.Reaction.hist()\n",
    "plt.title('Reaction Time')\n",
    "plt.show()"
   ]
  },
  {
   "cell_type": "code",
   "execution_count": 145,
   "id": "4a021056-a8b1-4f6d-ba2f-cc7de7061562",
   "metadata": {
    "tags": []
   },
   "outputs": [
    {
     "name": "stdout",
     "output_type": "stream",
     "text": [
      "The data is NOT normally distributed\n"
     ]
    }
   ],
   "source": [
    "r,p = stats.shapiro(react_df.Days)\n",
    "eval_dist(r,p)"
   ]
  },
  {
   "cell_type": "code",
   "execution_count": 146,
   "id": "2a6ec84d-0962-4ab6-b2ab-d792c81cbeca",
   "metadata": {
    "tags": []
   },
   "outputs": [
    {
     "name": "stdout",
     "output_type": "stream",
     "text": [
      "The data is NOT normally distributed\n"
     ]
    }
   ],
   "source": [
    "r,p = stats.shapiro(react_df.Reaction)\n",
    "eval_dist(r,p)"
   ]
  },
  {
   "cell_type": "markdown",
   "id": "ae4aa2e0-3367-4c5a-9d6b-1253b0de14e5",
   "metadata": {},
   "source": [
    "- Days is uniformly distributed \n",
    "- Reaction time is NOT normally distributed\n",
    "\n",
    "<b>5: Run `stats` Tests</b>"
   ]
  },
  {
   "cell_type": "code",
   "execution_count": 148,
   "id": "1a02806b-b480-413d-a658-509462833c07",
   "metadata": {
    "tags": []
   },
   "outputs": [
    {
     "data": {
      "text/plain": [
       "(0.5228138502259547, 5.132878057706873e-14)"
      ]
     },
     "execution_count": 148,
     "metadata": {},
     "output_type": "execute_result"
    }
   ],
   "source": [
    "r,p = stats.spearmanr(react_df.Days, react_df.Reaction)\n",
    "r,p"
   ]
  },
  {
   "cell_type": "code",
   "execution_count": 150,
   "id": "b2dee853-7e56-4f57-9949-a17e8bae1bdd",
   "metadata": {
    "tags": []
   },
   "outputs": [
    {
     "name": "stdout",
     "output_type": "stream",
     "text": [
      "Reject the null hypothesis. There is a linear correlation.\n",
      "Spearman’s r: 0.522814\n",
      "P-value: 5.132878057706873e-14\n"
     ]
    }
   ],
   "source": [
    "eval_Sresult(r,p)"
   ]
  },
  {
   "cell_type": "markdown",
   "id": "1b5bb738-7a25-413c-bcc4-a2fb2369acff",
   "metadata": {},
   "source": [
    "# Comparison of Means Exercises\n",
    "\n",
    "1.) Answer with the type of test you would use (assume normal distribution):\n",
    "\n",
    "- Is there a difference in grades of students on the second floor compared to grades of all students?\n",
    "- Are adults who drink milk taller than adults who don't drink milk?\n",
    "- Is the price of gas higher in Texas or in New Mexico?\n",
    "- Are there differences in stress levels between students who take data science vs students who take web development vs students who take cloud academy?\n"
   ]
  },
  {
   "cell_type": "code",
   "execution_count": null,
   "id": "725edee3-163d-46fc-9f48-d591d2206bf6",
   "metadata": {},
   "outputs": [],
   "source": []
  },
  {
   "cell_type": "code",
   "execution_count": null,
   "id": "54b8cfe9-b9f5-4fb9-813a-9651b533e578",
   "metadata": {},
   "outputs": [],
   "source": []
  },
  {
   "cell_type": "code",
   "execution_count": null,
   "id": "b7b66deb-8415-4430-8bfc-bd1e71b5a71f",
   "metadata": {
    "tags": []
   },
   "outputs": [],
   "source": []
  },
  {
   "cell_type": "code",
   "execution_count": null,
   "id": "3b0e1a01-7014-4b86-b053-7651d231e410",
   "metadata": {},
   "outputs": [],
   "source": []
  },
  {
   "cell_type": "markdown",
   "id": "9f7424be-66ff-495e-b8df-9dd929536ab0",
   "metadata": {},
   "source": [
    "2.) Ace Realty wants to determine whether the average time it takes to sell homes is different for its two offices. A sample of 40 sales from office #1 revealed a mean of 90 days and a standard deviation of 15 days. A sample of 50 sales from office #2 revealed a mean of 100 days and a standard deviation of 20 days. Use a .05 level of significance."
   ]
  },
  {
   "cell_type": "code",
   "execution_count": null,
   "id": "7c08ef23-3b9c-498e-8e03-15a9147b4786",
   "metadata": {},
   "outputs": [],
   "source": []
  },
  {
   "cell_type": "code",
   "execution_count": null,
   "id": "7e44eb45-4ac1-4f40-bda5-f61fa6cd6d34",
   "metadata": {},
   "outputs": [],
   "source": []
  },
  {
   "cell_type": "code",
   "execution_count": null,
   "id": "989adcb2-8656-48f1-b048-2a154975fea7",
   "metadata": {},
   "outputs": [],
   "source": []
  },
  {
   "cell_type": "code",
   "execution_count": null,
   "id": "ea0adf77-9171-4a94-99f4-ac56e44eca18",
   "metadata": {},
   "outputs": [],
   "source": []
  },
  {
   "cell_type": "markdown",
   "id": "4ee01e0e-b2c8-4185-a824-d6032164bb44",
   "metadata": {},
   "source": [
    "3.) Load the mpg dataset and use it to answer the following questions:\n",
    "\n",
    "- Is there a difference in fuel-efficiency in cars from 2008 vs 1999?\n",
    "- Are compact cars more fuel-efficient than the average car?\n",
    "- Do manual cars get better gas mileage than automatic cars?"
   ]
  },
  {
   "cell_type": "code",
   "execution_count": null,
   "id": "b911b73b-ab2c-452d-b175-248932bc86f2",
   "metadata": {},
   "outputs": [],
   "source": []
  },
  {
   "cell_type": "code",
   "execution_count": null,
   "id": "f9552718-50e5-4885-8b6d-5bf402c1d2c2",
   "metadata": {},
   "outputs": [],
   "source": []
  },
  {
   "cell_type": "code",
   "execution_count": null,
   "id": "4c2f8cfe-4d32-4313-87b6-55dce5fada9c",
   "metadata": {},
   "outputs": [],
   "source": []
  },
  {
   "cell_type": "code",
   "execution_count": null,
   "id": "22006547-f1f3-41c1-bc91-b14986e6c042",
   "metadata": {},
   "outputs": [],
   "source": []
  }
 ],
 "metadata": {
  "kernelspec": {
   "display_name": "Python 3 (ipykernel)",
   "language": "python",
   "name": "python3"
  },
  "language_info": {
   "codemirror_mode": {
    "name": "ipython",
    "version": 3
   },
   "file_extension": ".py",
   "mimetype": "text/x-python",
   "name": "python",
   "nbconvert_exporter": "python",
   "pygments_lexer": "ipython3",
   "version": "3.11.4"
  }
 },
 "nbformat": 4,
 "nbformat_minor": 5
}
